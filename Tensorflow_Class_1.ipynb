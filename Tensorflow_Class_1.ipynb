{
  "nbformat": 4,
  "nbformat_minor": 0,
  "metadata": {
    "colab": {
      "provenance": [],
      "authorship_tag": "ABX9TyM6YeHkjJNHmUICUnGgFcTv",
      "include_colab_link": true
    },
    "kernelspec": {
      "name": "python3",
      "display_name": "Python 3"
    },
    "language_info": {
      "name": "python"
    }
  },
  "cells": [
    {
      "cell_type": "markdown",
      "metadata": {
        "id": "view-in-github",
        "colab_type": "text"
      },
      "source": [
        "<a href=\"https://colab.research.google.com/github/THIRU9573/Tensorflow-Notes/blob/main/Tensorflow_Class_1.ipynb\" target=\"_parent\"><img src=\"https://colab.research.google.com/assets/colab-badge.svg\" alt=\"Open In Colab\"/></a>"
      ]
    },
    {
      "cell_type": "code",
      "execution_count": null,
      "metadata": {
        "id": "AcmaQr5epzVr"
      },
      "outputs": [],
      "source": [
        " import tensorflow as tf"
      ]
    },
    {
      "cell_type": "code",
      "source": [],
      "metadata": {
        "id": "cuotgzByRCQ9"
      },
      "execution_count": null,
      "outputs": []
    },
    {
      "cell_type": "markdown",
      "source": [
        "TensorFolw is an end to end platform for machine learning. it support following : 1.Multidimentional array based numeric computation 2.GPU and distributed processing 3.Automatic differention 4.Model construction,training and export and more"
      ],
      "metadata": {
        "id": "bjN33EmYaoT8"
      }
    },
    {
      "cell_type": "code",
      "source": [],
      "metadata": {
        "id": "kK_UeTbxaNhI"
      },
      "execution_count": null,
      "outputs": []
    },
    {
      "cell_type": "markdown",
      "source": [
        "## ***Tensors***"
      ],
      "metadata": {
        "id": "0omYwXz5a3TY"
      }
    },
    {
      "cell_type": "markdown",
      "source": [
        "Tensorflow operate on multidimential array or tensors represented as tf.tTensor objects. Here is two dimentional tensor: "
      ],
      "metadata": {
        "id": "ND2oqWwybJjL"
      }
    },
    {
      "cell_type": "code",
      "source": [
        "import tensorflow as tf\n",
        "x = tf.constant([[1.,2.,3.],\n",
        "                  [4.,5.,6.]]) \n",
        "print(x)\n",
        "print(x.shape)\n",
        "print(x.dtype)"
      ],
      "metadata": {
        "colab": {
          "base_uri": "https://localhost:8080/"
        },
        "id": "FGTL5bY5emTB",
        "outputId": "09e08dfd-0d98-413b-f1ea-76fb05dbca21"
      },
      "execution_count": 2,
      "outputs": [
        {
          "output_type": "stream",
          "name": "stdout",
          "text": [
            "tf.Tensor(\n",
            "[[1. 2. 3.]\n",
            " [4. 5. 6.]], shape=(2, 3), dtype=float32)\n",
            "(2, 3)\n",
            "<dtype: 'float32'>\n"
          ]
        }
      ]
    },
    {
      "cell_type": "code",
      "source": [],
      "metadata": {
        "id": "nMdZOPJefB5v"
      },
      "execution_count": null,
      "outputs": []
    },
    {
      "cell_type": "markdown",
      "source": [
        "The most important attributes of a tf.Tensor are its shape and dtype:\n",
        "\n",
        "\n",
        "1.   Tensor.shape:tells you the size of the tensor along each of its axes\n",
        "2.  Tensor.dtype:tells you the type of all the elements in the tensor.\n",
        "Tensorflow implement standard mathematical operations on tensors as well as many operations specialized for machine learning.\n",
        "Foe Example:\n",
        "\n"
      ],
      "metadata": {
        "id": "MK-Q3qJffXXD"
      }
    },
    {
      "cell_type": "code",
      "source": [
        "x+x"
      ],
      "metadata": {
        "colab": {
          "base_uri": "https://localhost:8080/"
        },
        "id": "S7L3RdWahhxD",
        "outputId": "1234241e-e353-47e7-8bac-d59929b297e2"
      },
      "execution_count": null,
      "outputs": [
        {
          "output_type": "execute_result",
          "data": {
            "text/plain": [
              "<tf.Tensor: shape=(2, 3), dtype=float32, numpy=\n",
              "array([[ 2.,  4.,  6.],\n",
              "       [ 8., 10., 12.]], dtype=float32)>"
            ]
          },
          "metadata": {},
          "execution_count": 4
        }
      ]
    },
    {
      "cell_type": "code",
      "source": [
        "5*x"
      ],
      "metadata": {
        "colab": {
          "base_uri": "https://localhost:8080/"
        },
        "id": "-b-4HPjXhlNV",
        "outputId": "e44dc88d-19bb-4821-d305-1eace2561d78"
      },
      "execution_count": null,
      "outputs": [
        {
          "output_type": "execute_result",
          "data": {
            "text/plain": [
              "<tf.Tensor: shape=(2, 3), dtype=float32, numpy=\n",
              "array([[ 5., 10., 15.],\n",
              "       [20., 25., 30.]], dtype=float32)>"
            ]
          },
          "metadata": {},
          "execution_count": 5
        }
      ]
    },
    {
      "cell_type": "code",
      "source": [
        "x @ tf.transpose(x)"
      ],
      "metadata": {
        "colab": {
          "base_uri": "https://localhost:8080/"
        },
        "id": "wOWU8OGykCyp",
        "outputId": "00d4882e-cb6c-4444-9b9d-b419ab353278"
      },
      "execution_count": null,
      "outputs": [
        {
          "output_type": "execute_result",
          "data": {
            "text/plain": [
              "<tf.Tensor: shape=(2, 2), dtype=float32, numpy=\n",
              "array([[14., 32.],\n",
              "       [32., 77.]], dtype=float32)>"
            ]
          },
          "metadata": {},
          "execution_count": 6
        }
      ]
    },
    {
      "cell_type": "markdown",
      "source": [
        "The @ symbol in this context is the matrix multiplication operator in TensorFlow. It is equivalent to calling tf.matmul()."
      ],
      "metadata": {
        "id": "tz2_ChgtlVEq"
      }
    },
    {
      "cell_type": "code",
      "source": [
        "from IPython.dispaly import Image\n",
        "Image(filename = , width = 400,height = 400)"
      ],
      "metadata": {
        "id": "jT9bBPBvlXJf"
      },
      "execution_count": null,
      "outputs": []
    },
    {
      "cell_type": "markdown",
      "source": [
        "## tf.concat(values,axis)"
      ],
      "metadata": {
        "id": "3qNI9mPWuU4j"
      }
    },
    {
      "cell_type": "markdown",
      "source": [
        "tf.concat() is a function in TensorFlow, which is used to concatenate tensors along a given axis. It takes a list of tensors as input and returns a new tensor, which is the result of concatenating all the input tensors along the specified axis.\n",
        "\n",
        "The syntax for using tf.concat() is as follows:"
      ],
      "metadata": {
        "id": "CSJMjeDfuP4f"
      }
    },
    {
      "cell_type": "markdown",
      "source": [],
      "metadata": {
        "id": "X6SqjV64lQWk"
      }
    },
    {
      "cell_type": "code",
      "source": [
        "tf.concat([x,x,x], axis = 0)"
      ],
      "metadata": {
        "colab": {
          "base_uri": "https://localhost:8080/"
        },
        "id": "7KljdxGhkLMA",
        "outputId": "d04e7e2b-755c-4b32-bda3-7fa8bcc6a2c5"
      },
      "execution_count": null,
      "outputs": [
        {
          "output_type": "execute_result",
          "data": {
            "text/plain": [
              "<tf.Tensor: shape=(6, 3), dtype=float32, numpy=\n",
              "array([[1., 2., 3.],\n",
              "       [4., 5., 6.],\n",
              "       [1., 2., 3.],\n",
              "       [4., 5., 6.],\n",
              "       [1., 2., 3.],\n",
              "       [4., 5., 6.]], dtype=float32)>"
            ]
          },
          "metadata": {},
          "execution_count": 7
        }
      ]
    },
    {
      "cell_type": "code",
      "source": [
        "A = tf.constant([[1,2,3],[4,5,6]])\n",
        "B = tf.constant([[7,8,9,10],[11,12,13,14]])\n",
        "\n",
        "C = tf.concat([A,B], axis = 1)\n",
        "print(C)"
      ],
      "metadata": {
        "colab": {
          "base_uri": "https://localhost:8080/"
        },
        "id": "pj5dnSZjtaF4",
        "outputId": "a33d70c1-34a3-45ab-d944-4a4f442e246a"
      },
      "execution_count": null,
      "outputs": [
        {
          "output_type": "stream",
          "name": "stdout",
          "text": [
            "tf.Tensor(\n",
            "[[ 1  2  3  7  8  9 10]\n",
            " [ 4  5  6 11 12 13 14]], shape=(2, 7), dtype=int32)\n"
          ]
        }
      ]
    },
    {
      "cell_type": "code",
      "source": [
        "A = tf.constant([[1,2,3,4],[4,5,6,7]])\n",
        "B = tf.constant([[7,8,9,10],[11,12,13,14]])\n",
        "\n",
        "C = tf.concat([A,B], axis = 0)\n",
        "print(C)"
      ],
      "metadata": {
        "colab": {
          "base_uri": "https://localhost:8080/"
        },
        "id": "UKVCcczHvXoQ",
        "outputId": "29e9ed03-3aa1-4d77-d739-61f42d7ea395"
      },
      "execution_count": null,
      "outputs": [
        {
          "output_type": "stream",
          "name": "stdout",
          "text": [
            "tf.Tensor(\n",
            "[[ 1  2  3  4]\n",
            " [ 4  5  6  7]\n",
            " [ 7  8  9 10]\n",
            " [11 12 13 14]], shape=(4, 4), dtype=int32)\n"
          ]
        }
      ]
    },
    {
      "cell_type": "markdown",
      "source": [
        "# tf.nn.softmax()"
      ],
      "metadata": {
        "id": "iowLSPYVwAzX"
      }
    },
    {
      "cell_type": "markdown",
      "source": [
        "tf.nn.softmax() is a function in TensorFlow that computes the softmax activation function for a given input tensor. The softmax function is a commonly used activation function in neural networks, especially for multi-class classification problems.\n",
        "\n",
        "The softmax function takes a vector of real-valued scores as input and normalizes them into a probability distribution over the classes. The output of the softmax function is a vector of probabilities, where each element represents the probability of the input belonging to a particular class.\n",
        "\n",
        "The syntax for using tf.nn.softmax() is as follows:"
      ],
      "metadata": {
        "id": "jAKCSQ9XybYK"
      }
    },
    {
      "cell_type": "code",
      "source": [
        "#tf.nn.softmax(logits, axis=None, name=None)"
      ],
      "metadata": {
        "id": "gdOems1tyfUn"
      },
      "execution_count": null,
      "outputs": []
    },
    {
      "cell_type": "code",
      "source": [
        "tf.nn.softmax(x, axis = -1)"
      ],
      "metadata": {
        "colab": {
          "base_uri": "https://localhost:8080/"
        },
        "id": "xedlTLlRvtRR",
        "outputId": "aa6b13d8-979c-4b9f-82a7-d78c90b1dd95"
      },
      "execution_count": null,
      "outputs": [
        {
          "output_type": "execute_result",
          "data": {
            "text/plain": [
              "<tf.Tensor: shape=(2, 3), dtype=float32, numpy=\n",
              "array([[0.09003057, 0.24472848, 0.66524094],\n",
              "       [0.09003057, 0.24472848, 0.66524094]], dtype=float32)>"
            ]
          },
          "metadata": {},
          "execution_count": 13
        }
      ]
    },
    {
      "cell_type": "markdown",
      "source": [
        "## tf.reduce_sum():"
      ],
      "metadata": {
        "id": "Ly-1HArszkIz"
      }
    },
    {
      "cell_type": "markdown",
      "source": [
        "tf.reduce_sum() is a function in TensorFlow that computes the sum of all the elements in a tensor, or along a specified axis of a tensor. It is a useful operation in various machine learning applications, such as computing the loss function or computing accuracy.\n",
        "\n",
        "The syntax for using tf.reduce_sum() is as follows:"
      ],
      "metadata": {
        "id": "Cmkn4KrH0Q0N"
      }
    },
    {
      "cell_type": "code",
      "source": [
        "#tf.reduce_sum(input_tensor, axis=None, keepdims=False, name=None)\n"
      ],
      "metadata": {
        "id": "XPcguefU0Sf_"
      },
      "execution_count": null,
      "outputs": []
    },
    {
      "cell_type": "code",
      "source": [
        "tf.reduce_sum(x)"
      ],
      "metadata": {
        "colab": {
          "base_uri": "https://localhost:8080/"
        },
        "id": "V-4trnLs0V8o",
        "outputId": "020f3d75-ce79-42dd-eca6-105f5bb94c34"
      },
      "execution_count": null,
      "outputs": [
        {
          "output_type": "execute_result",
          "data": {
            "text/plain": [
              "<tf.Tensor: shape=(), dtype=float32, numpy=21.0>"
            ]
          },
          "metadata": {},
          "execution_count": 15
        }
      ]
    },
    {
      "cell_type": "code",
      "source": [
        "tf.reduce_sum(x,axis = 1)"
      ],
      "metadata": {
        "colab": {
          "base_uri": "https://localhost:8080/"
        },
        "id": "pZoZMqyy11iz",
        "outputId": "287359c4-fb16-4697-c517-e37803a146e6"
      },
      "execution_count": null,
      "outputs": [
        {
          "output_type": "execute_result",
          "data": {
            "text/plain": [
              "<tf.Tensor: shape=(2,), dtype=float32, numpy=array([ 6., 15.], dtype=float32)>"
            ]
          },
          "metadata": {},
          "execution_count": 16
        }
      ]
    },
    {
      "cell_type": "code",
      "source": [
        "tf.reduce_sum(x,axis = 0)"
      ],
      "metadata": {
        "colab": {
          "base_uri": "https://localhost:8080/"
        },
        "id": "_klvQl0817mn",
        "outputId": "1d9a18cc-bc7c-4223-bceb-778ecc00bf8e"
      },
      "execution_count": null,
      "outputs": [
        {
          "output_type": "execute_result",
          "data": {
            "text/plain": [
              "<tf.Tensor: shape=(3,), dtype=float32, numpy=array([5., 7., 9.], dtype=float32)>"
            ]
          },
          "metadata": {},
          "execution_count": 17
        }
      ]
    },
    {
      "cell_type": "code",
      "source": [
        "y = tf.constant([[[1,2,3,],\n",
        "                  [3,4,5],\n",
        "                  [5,6,7]]])\n",
        "a = tf.reduce_sum(y)\n",
        "b = tf.reduce_sum(y,axis = 0)\n",
        "c = tf.reduce_sum(y, axis = 1)\n",
        "print(a)\n",
        "print(b)\n",
        "print(c)"
      ],
      "metadata": {
        "colab": {
          "base_uri": "https://localhost:8080/"
        },
        "id": "X-lq3w-s3Q_H",
        "outputId": "1011997f-ec2f-4cfb-a552-532f8601dea3"
      },
      "execution_count": null,
      "outputs": [
        {
          "output_type": "stream",
          "name": "stdout",
          "text": [
            "tf.Tensor(36, shape=(), dtype=int32)\n",
            "tf.Tensor(\n",
            "[[1 2 3]\n",
            " [3 4 5]\n",
            " [5 6 7]], shape=(3, 3), dtype=int32)\n",
            "tf.Tensor([[ 9 12 15]], shape=(1, 3), dtype=int32)\n"
          ]
        }
      ]
    },
    {
      "cell_type": "markdown",
      "source": [
        "## tf.convet_to_tensor():"
      ],
      "metadata": {
        "id": "XIzIhPzJ5UC3"
      }
    },
    {
      "cell_type": "markdown",
      "source": [
        "tf.convert_to_tensor() is a function in TensorFlow that converts a given value to a tensor. This function is useful when you want to ensure that a given value is represented as a tensor in TensorFlow, regardless of its original type or shape.\n",
        "\n",
        "The syntax for using tf.convert_to_tensor() is as follows:"
      ],
      "metadata": {
        "id": "4DsQWvKY566d"
      }
    },
    {
      "cell_type": "code",
      "source": [
        "#tf.convert_to_tensor(value, dtype=None, dtype_hint=None, name=None)\n"
      ],
      "metadata": {
        "id": "FV-6DJtz4QUX"
      },
      "execution_count": null,
      "outputs": []
    },
    {
      "cell_type": "code",
      "source": [
        "tf.convert_to_tensor([1,2,3])"
      ],
      "metadata": {
        "colab": {
          "base_uri": "https://localhost:8080/"
        },
        "id": "8_9GmjAm6COI",
        "outputId": "740c7253-3738-441c-b625-52f51361e0a9"
      },
      "execution_count": null,
      "outputs": [
        {
          "output_type": "execute_result",
          "data": {
            "text/plain": [
              "<tf.Tensor: shape=(3,), dtype=int32, numpy=array([1, 2, 3], dtype=int32)>"
            ]
          },
          "metadata": {},
          "execution_count": 24
        }
      ]
    },
    {
      "cell_type": "code",
      "source": [
        "z = [1,2,3,4,5]\n",
        "u = tf.convert_to_tensor(z)\n",
        "print(u)"
      ],
      "metadata": {
        "colab": {
          "base_uri": "https://localhost:8080/"
        },
        "id": "eDVq4TEz6doW",
        "outputId": "ab942529-38ee-49a5-8e3f-c2049c6e4a57"
      },
      "execution_count": null,
      "outputs": [
        {
          "output_type": "stream",
          "name": "stdout",
          "text": [
            "tf.Tensor([1 2 3 4 5], shape=(5,), dtype=int32)\n"
          ]
        }
      ]
    },
    {
      "cell_type": "code",
      "source": [
        "x = 3.14\n",
        "v = tf.convert_to_tensor(x, dtype = tf.float32)\n",
        "print(v)"
      ],
      "metadata": {
        "colab": {
          "base_uri": "https://localhost:8080/"
        },
        "id": "6uTSvMhT662X",
        "outputId": "4e782834-9860-46e0-e075-bcd65d58fec7"
      },
      "execution_count": null,
      "outputs": [
        {
          "output_type": "stream",
          "name": "stdout",
          "text": [
            "tf.Tensor(3.14, shape=(), dtype=float32)\n"
          ]
        }
      ]
    },
    {
      "cell_type": "code",
      "source": [
        "tf.reduce_sum(u)"
      ],
      "metadata": {
        "colab": {
          "base_uri": "https://localhost:8080/"
        },
        "id": "-Xnok-v97XY4",
        "outputId": "8174edbf-415a-441e-ba77-921c5aa7307e"
      },
      "execution_count": null,
      "outputs": [
        {
          "output_type": "execute_result",
          "data": {
            "text/plain": [
              "<tf.Tensor: shape=(), dtype=int32, numpy=15>"
            ]
          },
          "metadata": {},
          "execution_count": 29
        }
      ]
    },
    {
      "cell_type": "code",
      "source": [
        "tf.reduce_sum([1,3,4,5,7,9])"
      ],
      "metadata": {
        "colab": {
          "base_uri": "https://localhost:8080/"
        },
        "id": "WvckDz-l7nhx",
        "outputId": "7c839b6f-57de-4000-b20b-bd2bc796163c"
      },
      "execution_count": null,
      "outputs": [
        {
          "output_type": "execute_result",
          "data": {
            "text/plain": [
              "<tf.Tensor: shape=(), dtype=int32, numpy=29>"
            ]
          },
          "metadata": {},
          "execution_count": 30
        }
      ]
    },
    {
      "cell_type": "code",
      "source": [
        "if tf.config.list_physical_devices('GPU'):\n",
        "  print(\"TensorFlow **IS** using the GPU\")\n",
        "else:\n",
        "  print(\"TensorFlow **IS NOT** using the GPU\")"
      ],
      "metadata": {
        "colab": {
          "base_uri": "https://localhost:8080/"
        },
        "id": "frtDwEwH7-ZG",
        "outputId": "b106fb57-1190-4a45-c3c8-b3185bb8b314"
      },
      "execution_count": null,
      "outputs": [
        {
          "output_type": "stream",
          "name": "stdout",
          "text": [
            "TensorFlow **IS NOT** using the GPU\n"
          ]
        }
      ]
    },
    {
      "cell_type": "markdown",
      "source": [
        "## Variables:"
      ],
      "metadata": {
        "id": "AGrPyg5k8b__"
      }
    },
    {
      "cell_type": "markdown",
      "source": [
        "Normal tf.Tensor objects are immutable. To store model weights (or other mutable state) in TensorFlow use a tf.Variable."
      ],
      "metadata": {
        "id": "IDAqepAz8svR"
      }
    },
    {
      "cell_type": "code",
      "source": [
        "var = tf.Variable([0.0, 0.0,0.0])\n",
        "var.assign([1,2,3])"
      ],
      "metadata": {
        "colab": {
          "base_uri": "https://localhost:8080/"
        },
        "id": "PeNSQYK_8VDP",
        "outputId": "054ad569-12e8-451b-f420-d80e5ce61169"
      },
      "execution_count": null,
      "outputs": [
        {
          "output_type": "execute_result",
          "data": {
            "text/plain": [
              "<tf.Variable 'UnreadVariable' shape=(3,) dtype=float32, numpy=array([1., 2., 3.], dtype=float32)>"
            ]
          },
          "metadata": {},
          "execution_count": 32
        }
      ]
    },
    {
      "cell_type": "code",
      "source": [
        "var.assign_add([1,1,1])"
      ],
      "metadata": {
        "colab": {
          "base_uri": "https://localhost:8080/"
        },
        "id": "SIV3cP5C9DPT",
        "outputId": "1b47e6e2-0470-4215-bdce-b19d9f584503"
      },
      "execution_count": null,
      "outputs": [
        {
          "output_type": "execute_result",
          "data": {
            "text/plain": [
              "<tf.Variable 'UnreadVariable' shape=(3,) dtype=float32, numpy=array([2., 3., 4.], dtype=float32)>"
            ]
          },
          "metadata": {},
          "execution_count": 33
        }
      ]
    },
    {
      "cell_type": "code",
      "source": [
        "var.assign_sub([1,2,3])"
      ],
      "metadata": {
        "colab": {
          "base_uri": "https://localhost:8080/"
        },
        "id": "vGBv_h499S1V",
        "outputId": "c393c3d8-34b2-4e95-d3d8-989df6d85378"
      },
      "execution_count": null,
      "outputs": [
        {
          "output_type": "execute_result",
          "data": {
            "text/plain": [
              "<tf.Variable 'UnreadVariable' shape=(3,) dtype=float32, numpy=array([1., 1., 1.], dtype=float32)>"
            ]
          },
          "metadata": {},
          "execution_count": 34
        }
      ]
    },
    {
      "cell_type": "code",
      "source": [],
      "metadata": {
        "id": "Lgtp6t9N92gN"
      },
      "execution_count": null,
      "outputs": []
    },
    {
      "cell_type": "code",
      "source": [],
      "metadata": {
        "id": "049gbngG-Ij6"
      },
      "execution_count": null,
      "outputs": []
    },
    {
      "cell_type": "code",
      "source": [],
      "metadata": {
        "id": "n-GjXC52-JO2"
      },
      "execution_count": null,
      "outputs": []
    },
    {
      "cell_type": "markdown",
      "source": [
        "## Automatic Differentiation:"
      ],
      "metadata": {
        "id": "_wwXj-Sb-Js4"
      }
    },
    {
      "cell_type": "markdown",
      "source": [
        "To enable this, TensorFlow implements automatic differentiation (autodiff), which uses calculus to compute gradients. Typically you'll use this to calculate the gradient of a model's error or loss with respect to its weights."
      ],
      "metadata": {
        "id": "FnWBYU9f-uf_"
      }
    },
    {
      "cell_type": "code",
      "source": [
        "x = tf.Variable(1.0)\n",
        "\n",
        "def f(x):\n",
        "  y = x**2+2*x - 5\n",
        "  return y"
      ],
      "metadata": {
        "id": "jktMUktD-X7b"
      },
      "execution_count": null,
      "outputs": []
    },
    {
      "cell_type": "code",
      "source": [
        "f(x)"
      ],
      "metadata": {
        "colab": {
          "base_uri": "https://localhost:8080/"
        },
        "id": "GLkB1xhv_ZmK",
        "outputId": "2ad018d3-b8fb-42fb-bc77-c947ad7b73a2"
      },
      "execution_count": null,
      "outputs": [
        {
          "output_type": "execute_result",
          "data": {
            "text/plain": [
              "<tf.Tensor: shape=(), dtype=float32, numpy=-2.0>"
            ]
          },
          "metadata": {},
          "execution_count": 38
        }
      ]
    },
    {
      "cell_type": "markdown",
      "source": [
        "At x = 1.0, y = f(x) = (1**2 + 2*1 - 5) = -2.\n",
        "\n",
        "The derivative of y is y' = f'(x) = (2*x + 2) = 4. TensorFlow can calculate this automatically:"
      ],
      "metadata": {
        "id": "NKylBmDu_xsn"
      }
    },
    {
      "cell_type": "code",
      "source": [
        "with tf.GradientTape() as tape:\n",
        "  y = f(x)\n",
        "g_x = tape.gradient(y,x)   #g(x) = dy/dx\n",
        "g_x"
      ],
      "metadata": {
        "colab": {
          "base_uri": "https://localhost:8080/"
        },
        "id": "E__dAt52_dcM",
        "outputId": "41430cdc-6e09-40b6-a9e4-16c5c78786ce"
      },
      "execution_count": null,
      "outputs": [
        {
          "output_type": "execute_result",
          "data": {
            "text/plain": [
              "<tf.Tensor: shape=(), dtype=float32, numpy=4.0>"
            ]
          },
          "metadata": {},
          "execution_count": 40
        }
      ]
    },
    {
      "cell_type": "markdown",
      "source": [
        "## Graphs and tf.function"
      ],
      "metadata": {
        "id": "Rzi9JDyKMRNO"
      }
    },
    {
      "cell_type": "markdown",
      "source": [
        "While you can use Tensorflow interactivelylike  any Python library, TensorFlow also Privide tools for:\n",
        "\n",
        "\n",
        "1.   Performance Optimization:to speed uptraining and inference\n",
        "2.   Export:so you can save your model when its done training.\n",
        "\n",
        "These require that you use tf.function to seperate your pure-Tensorflow code from Python\n",
        "\n"
      ],
      "metadata": {
        "id": "Hm_ElWIPNPB3"
      }
    },
    {
      "cell_type": "code",
      "source": [
        "@tf.function\n",
        "def my_func(x):\n",
        "  print('Tracing. \\n')\n",
        "  return tf.reduce_sum(x)"
      ],
      "metadata": {
        "id": "IDYvwRdcAnH0"
      },
      "execution_count": 13,
      "outputs": []
    },
    {
      "cell_type": "markdown",
      "source": [
        "The first time you run the tf.function, although its executes in Python, it captures  a completet, optimized graph reprenting the Tnsorflow computations done within the function."
      ],
      "metadata": {
        "id": "WdImgcxBP-F9"
      }
    },
    {
      "cell_type": "code",
      "source": [
        "x = tf.constant([1,2,3])\n",
        "my_func(x)"
      ],
      "metadata": {
        "id": "vLIjd4UEPTCh",
        "outputId": "1b214470-965b-4bc7-b16c-21ab23fc5bb9",
        "colab": {
          "base_uri": "https://localhost:8080/"
        }
      },
      "execution_count": 14,
      "outputs": [
        {
          "output_type": "stream",
          "name": "stdout",
          "text": [
            "Tracing. \n",
            "\n"
          ]
        },
        {
          "output_type": "execute_result",
          "data": {
            "text/plain": [
              "<tf.Tensor: shape=(), dtype=int32, numpy=6>"
            ]
          },
          "metadata": {},
          "execution_count": 14
        }
      ]
    },
    {
      "cell_type": "markdown",
      "source": [
        "On subsequent calls TensorFlow only executes the optimized graph, skipping any non-TensorFlow steps. Below, note that my_func doesn't print tracing since print is a Python function, not a TensorFlow function."
      ],
      "metadata": {
        "id": "kEuKmASdRT3i"
      }
    },
    {
      "cell_type": "code",
      "source": [
        "x = tf.constant([10,9,8])\n",
        "my_func(x)"
      ],
      "metadata": {
        "id": "joLngsyPQv7K",
        "outputId": "cb54cce1-a6c5-4a93-d020-6794a6d53c57",
        "colab": {
          "base_uri": "https://localhost:8080/"
        }
      },
      "execution_count": 15,
      "outputs": [
        {
          "output_type": "execute_result",
          "data": {
            "text/plain": [
              "<tf.Tensor: shape=(), dtype=int32, numpy=27>"
            ]
          },
          "metadata": {},
          "execution_count": 15
        }
      ]
    },
    {
      "cell_type": "markdown",
      "source": [
        " graph may not be reusable for inputs with a different signature (shape and dtype), so a new graph is generated instead:"
      ],
      "metadata": {
        "id": "dYYxHUPbR77k"
      }
    },
    {
      "cell_type": "code",
      "source": [
        "x = tf.constant([10.0,9.1,8.2], dtype = tf.float32)\n",
        "my_func(x)"
      ],
      "metadata": {
        "id": "UvR_0kp1Rb3N",
        "outputId": "6f545946-7cc5-45b0-f78c-5db057cc8a18",
        "colab": {
          "base_uri": "https://localhost:8080/"
        }
      },
      "execution_count": 16,
      "outputs": [
        {
          "output_type": "stream",
          "name": "stdout",
          "text": [
            "Tracing. \n",
            "\n"
          ]
        },
        {
          "output_type": "execute_result",
          "data": {
            "text/plain": [
              "<tf.Tensor: shape=(), dtype=float32, numpy=27.3>"
            ]
          },
          "metadata": {},
          "execution_count": 16
        }
      ]
    },
    {
      "cell_type": "markdown",
      "source": [
        "These captured graphs provude two benefits:\n",
        "\n",
        "\n",
        "1.   in many cases they provide a significant  speedup in execution(through not this trival example).\n",
        "2.   You can export these graphs, using tf.saved_model, to run on other systems like a server or a mobile device, no Python installation required.\n",
        "\n"
      ],
      "metadata": {
        "id": "oZH8Q-ZBSb1-"
      }
    },
    {
      "cell_type": "markdown",
      "source": [
        "## Modules,layers, and models"
      ],
      "metadata": {
        "id": "hftnZI9YTXzO"
      }
    },
    {
      "cell_type": "markdown",
      "source": [
        "tf.Module is class for managing your tf.Variable objects and the tf.function objects thats operate on them. the tf.Module class is necessaryto supporttwo significants features:\n",
        "\n",
        "\n",
        "1.   You can save and restore the values of your variables using tf.train.Checkpoint this is useful duringtraining as it is quick to save and retore a model's state\n",
        "2.   You can import and export the tf.Variable values and the tf.function graphs using tf.saved_model. this allows yyou to run your model independently of the Python programe that created it.\n",
        "\n"
      ],
      "metadata": {
        "id": "vSHMVHPoTe-z"
      }
    },
    {
      "cell_type": "markdown",
      "source": [
        "Here is a Complete exporting a simple tf.Module object:"
      ],
      "metadata": {
        "id": "b-8mMJlPWef5"
      }
    },
    {
      "cell_type": "code",
      "source": [
        "class MyProject(tf.Module):\n",
        "  def __init__(self,value):\n",
        "    self.weight = tf.Variable(value)\n",
        "  \n",
        "  @tf.function\n",
        "  def multiply(self, x):\n",
        "    return x*self.weight\n",
        "\n",
        "mod = MyProject(3)\n",
        "mod.multiply(tf.constant([1,2,3]))\n",
        "\n"
      ],
      "metadata": {
        "id": "RMfA75lVVVQv",
        "outputId": "65d33c0c-39d4-4bbf-b4a3-da8d203f90db",
        "colab": {
          "base_uri": "https://localhost:8080/"
        }
      },
      "execution_count": 19,
      "outputs": [
        {
          "output_type": "execute_result",
          "data": {
            "text/plain": [
              "<tf.Tensor: shape=(3,), dtype=int32, numpy=array([3, 6, 9], dtype=int32)>"
            ]
          },
          "metadata": {},
          "execution_count": 19
        }
      ]
    },
    {
      "cell_type": "markdown",
      "source": [
        "## Save the Module:"
      ],
      "metadata": {
        "id": "6fyCVbwy2FO8"
      }
    },
    {
      "cell_type": "code",
      "source": [
        "save_path = './saved'\n",
        "tf.saved_model.save(mod, save_path)"
      ],
      "metadata": {
        "id": "1zpQ11h-wNvM"
      },
      "execution_count": 20,
      "outputs": []
    },
    {
      "cell_type": "markdown",
      "source": [
        "The resulting savedModel is independent of the code that created it.you can load a savedModel from Python others language bindings, or Tensorflow serving you can also convert it to run with tensorflow lite or Tensorflow JS"
      ],
      "metadata": {
        "id": "gmssgO8I2ZN-"
      }
    },
    {
      "cell_type": "code",
      "source": [
        "reloaded = tf.saved_model.load(save_path)\n",
        "reloaded.multiply(tf.constant([1,2,3]))"
      ],
      "metadata": {
        "id": "thXMRtku2Ck_",
        "outputId": "134b511e-5e7a-4cfb-db41-1bdc35b1b99e",
        "colab": {
          "base_uri": "https://localhost:8080/"
        }
      },
      "execution_count": 21,
      "outputs": [
        {
          "output_type": "execute_result",
          "data": {
            "text/plain": [
              "<tf.Tensor: shape=(3,), dtype=int32, numpy=array([3, 6, 9], dtype=int32)>"
            ]
          },
          "metadata": {},
          "execution_count": 21
        }
      ]
    },
    {
      "cell_type": "markdown",
      "source": [
        "The tf.keras.layers.Layer and tf.keras.Model classes build on tf.Module providing additional functionality and convenience methods for building, training, and saving models. Some of these are demonstrated in the next section."
      ],
      "metadata": {
        "id": "4W9y139t4LJP"
      }
    },
    {
      "cell_type": "markdown",
      "source": [
        "## Training loops"
      ],
      "metadata": {
        "id": "xocNnPqa4R5n"
      }
    },
    {
      "cell_type": "code",
      "source": [
        "import matplotlib\n",
        "from matplotlib import pyplot as plt \n",
        "matplotlib.rcParams['figure.figsize'] = [9,6]"
      ],
      "metadata": {
        "id": "2S5Lk9r73-wa"
      },
      "execution_count": null,
      "outputs": []
    }
  ]
}