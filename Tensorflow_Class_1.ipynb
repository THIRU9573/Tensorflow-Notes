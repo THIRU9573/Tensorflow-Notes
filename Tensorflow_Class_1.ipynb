{
  "nbformat": 4,
  "nbformat_minor": 0,
  "metadata": {
    "colab": {
      "provenance": [],
      "authorship_tag": "ABX9TyO1LVLph6rP/h1uQpJ2DDpx",
      "include_colab_link": true
    },
    "kernelspec": {
      "name": "python3",
      "display_name": "Python 3"
    },
    "language_info": {
      "name": "python"
    }
  },
  "cells": [
    {
      "cell_type": "markdown",
      "metadata": {
        "id": "view-in-github",
        "colab_type": "text"
      },
      "source": [
        "<a href=\"https://colab.research.google.com/github/THIRU9573/Tensorflow-Notes/blob/main/Tensorflow_Class_1.ipynb\" target=\"_parent\"><img src=\"https://colab.research.google.com/assets/colab-badge.svg\" alt=\"Open In Colab\"/></a>"
      ]
    },
    {
      "cell_type": "code",
      "execution_count": 1,
      "metadata": {
        "id": "AcmaQr5epzVr"
      },
      "outputs": [],
      "source": [
        " import tensorflow as tf"
      ]
    },
    {
      "cell_type": "code",
      "source": [],
      "metadata": {
        "id": "cuotgzByRCQ9"
      },
      "execution_count": null,
      "outputs": []
    },
    {
      "cell_type": "markdown",
      "source": [
        "TensorFolw is an end to end platform for machine learning. it support following : 1.Multidimentional array based numeric computation 2.GPU and distributed processing 3.Automatic differention 4.Model construction,training and export and more"
      ],
      "metadata": {
        "id": "bjN33EmYaoT8"
      }
    },
    {
      "cell_type": "code",
      "source": [],
      "metadata": {
        "id": "kK_UeTbxaNhI"
      },
      "execution_count": null,
      "outputs": []
    },
    {
      "cell_type": "markdown",
      "source": [
        "## ***Tensors***"
      ],
      "metadata": {
        "id": "0omYwXz5a3TY"
      }
    },
    {
      "cell_type": "markdown",
      "source": [
        "Tensorflow operate on multidimential array or tensors represented as tf.tTensor objects. Here is two dimentional tensor: "
      ],
      "metadata": {
        "id": "ND2oqWwybJjL"
      }
    },
    {
      "cell_type": "code",
      "source": [
        "import tensorflow as tf\n",
        "x = tf.constant([[1.,2.,3.],\n",
        "                  [4.,5.,6.]]) \n",
        "print(x)\n",
        "print(x.shape)\n",
        "print(x.dtype)"
      ],
      "metadata": {
        "colab": {
          "base_uri": "https://localhost:8080/"
        },
        "id": "FGTL5bY5emTB",
        "outputId": "e45775b8-da6e-4496-fd57-4991634e0854"
      },
      "execution_count": 22,
      "outputs": [
        {
          "output_type": "stream",
          "name": "stdout",
          "text": [
            "tf.Tensor(\n",
            "[[1. 2. 3.]\n",
            " [4. 5. 6.]], shape=(2, 3), dtype=float32)\n",
            "(2, 3)\n",
            "<dtype: 'float32'>\n"
          ]
        }
      ]
    },
    {
      "cell_type": "code",
      "source": [],
      "metadata": {
        "id": "nMdZOPJefB5v"
      },
      "execution_count": null,
      "outputs": []
    },
    {
      "cell_type": "markdown",
      "source": [
        "The most important attributes of a tf.Tensor are its shape and dtype:\n",
        "\n",
        "\n",
        "1.   Tensor.shape:tells you the size of the tensor along each of its axes\n",
        "2.  Tensor.dtype:tells you the type of all the elements in the tensor.\n",
        "Tensorflow implement standard mathematical operations on tensors as well as many operations specialized for machine learning.\n",
        "Foe Example:\n",
        "\n"
      ],
      "metadata": {
        "id": "MK-Q3qJffXXD"
      }
    },
    {
      "cell_type": "code",
      "source": [
        "x+x"
      ],
      "metadata": {
        "colab": {
          "base_uri": "https://localhost:8080/"
        },
        "id": "S7L3RdWahhxD",
        "outputId": "1a8440fc-8728-4fed-df0a-337b78910149"
      },
      "execution_count": 23,
      "outputs": [
        {
          "output_type": "execute_result",
          "data": {
            "text/plain": [
              "<tf.Tensor: shape=(2, 3), dtype=float32, numpy=\n",
              "array([[ 2.,  4.,  6.],\n",
              "       [ 8., 10., 12.]], dtype=float32)>"
            ]
          },
          "metadata": {},
          "execution_count": 23
        }
      ]
    },
    {
      "cell_type": "code",
      "source": [
        "5*x"
      ],
      "metadata": {
        "colab": {
          "base_uri": "https://localhost:8080/"
        },
        "id": "-b-4HPjXhlNV",
        "outputId": "095fefd1-b437-448a-903b-f4c86953fc13"
      },
      "execution_count": 24,
      "outputs": [
        {
          "output_type": "execute_result",
          "data": {
            "text/plain": [
              "<tf.Tensor: shape=(2, 3), dtype=float32, numpy=\n",
              "array([[ 5., 10., 15.],\n",
              "       [20., 25., 30.]], dtype=float32)>"
            ]
          },
          "metadata": {},
          "execution_count": 24
        }
      ]
    },
    {
      "cell_type": "code",
      "source": [
        "x @ tf.transpose(x)"
      ],
      "metadata": {
        "colab": {
          "base_uri": "https://localhost:8080/"
        },
        "id": "wOWU8OGykCyp",
        "outputId": "c6d0fae5-750d-4f8a-e547-a38b348d1a66"
      },
      "execution_count": 25,
      "outputs": [
        {
          "output_type": "execute_result",
          "data": {
            "text/plain": [
              "<tf.Tensor: shape=(2, 2), dtype=float32, numpy=\n",
              "array([[14., 32.],\n",
              "       [32., 77.]], dtype=float32)>"
            ]
          },
          "metadata": {},
          "execution_count": 25
        }
      ]
    },
    {
      "cell_type": "markdown",
      "source": [
        "The @ symbol in this context is the matrix multiplication operator in TensorFlow. It is equivalent to calling tf.matmul()."
      ],
      "metadata": {
        "id": "tz2_ChgtlVEq"
      }
    },
    {
      "cell_type": "code",
      "source": [
        "from IPython.display import Image\n",
        "import os\n",
        "Image(filename = \"C:/Users/thiru/Downloads/tf2.jpeg\", width = 400,height = 400)"
      ],
      "metadata": {
        "id": "jT9bBPBvlXJf",
        "outputId": "ffba6965-1314-4b84-e59b-4210aad10215",
        "colab": {
          "base_uri": "https://localhost:8080/",
          "height": 347
        }
      },
      "execution_count": 13,
      "outputs": [
        {
          "output_type": "error",
          "ename": "FileNotFoundError",
          "evalue": "ignored",
          "traceback": [
            "\u001b[0;31m---------------------------------------------------------------------------\u001b[0m",
            "\u001b[0;31mFileNotFoundError\u001b[0m                         Traceback (most recent call last)",
            "\u001b[0;32m<ipython-input-13-b7881813877f>\u001b[0m in \u001b[0;36m<cell line: 3>\u001b[0;34m()\u001b[0m\n\u001b[1;32m      1\u001b[0m \u001b[0;32mfrom\u001b[0m \u001b[0mIPython\u001b[0m\u001b[0;34m.\u001b[0m\u001b[0mdisplay\u001b[0m \u001b[0;32mimport\u001b[0m \u001b[0mImage\u001b[0m\u001b[0;34m\u001b[0m\u001b[0;34m\u001b[0m\u001b[0m\n\u001b[1;32m      2\u001b[0m \u001b[0;32mimport\u001b[0m \u001b[0mos\u001b[0m\u001b[0;34m\u001b[0m\u001b[0;34m\u001b[0m\u001b[0m\n\u001b[0;32m----> 3\u001b[0;31m \u001b[0mImage\u001b[0m\u001b[0;34m(\u001b[0m\u001b[0mfilename\u001b[0m \u001b[0;34m=\u001b[0m \u001b[0;34m\"C:/Users/thiru/Downloads/tf2.jpeg\"\u001b[0m\u001b[0;34m,\u001b[0m \u001b[0mwidth\u001b[0m \u001b[0;34m=\u001b[0m \u001b[0;36m400\u001b[0m\u001b[0;34m,\u001b[0m\u001b[0mheight\u001b[0m \u001b[0;34m=\u001b[0m \u001b[0;36m400\u001b[0m\u001b[0;34m)\u001b[0m\u001b[0;34m\u001b[0m\u001b[0;34m\u001b[0m\u001b[0m\n\u001b[0m",
            "\u001b[0;32m/usr/local/lib/python3.10/dist-packages/IPython/core/display.py\u001b[0m in \u001b[0;36m__init__\u001b[0;34m(self, data, url, filename, format, embed, width, height, retina, unconfined, metadata)\u001b[0m\n\u001b[1;32m   1229\u001b[0m         \u001b[0mself\u001b[0m\u001b[0;34m.\u001b[0m\u001b[0mretina\u001b[0m \u001b[0;34m=\u001b[0m \u001b[0mretina\u001b[0m\u001b[0;34m\u001b[0m\u001b[0;34m\u001b[0m\u001b[0m\n\u001b[1;32m   1230\u001b[0m         \u001b[0mself\u001b[0m\u001b[0;34m.\u001b[0m\u001b[0munconfined\u001b[0m \u001b[0;34m=\u001b[0m \u001b[0munconfined\u001b[0m\u001b[0;34m\u001b[0m\u001b[0;34m\u001b[0m\u001b[0m\n\u001b[0;32m-> 1231\u001b[0;31m         super(Image, self).__init__(data=data, url=url, filename=filename, \n\u001b[0m\u001b[1;32m   1232\u001b[0m                 metadata=metadata)\n\u001b[1;32m   1233\u001b[0m \u001b[0;34m\u001b[0m\u001b[0m\n",
            "\u001b[0;32m/usr/local/lib/python3.10/dist-packages/IPython/core/display.py\u001b[0m in \u001b[0;36m__init__\u001b[0;34m(self, data, url, filename, metadata)\u001b[0m\n\u001b[1;32m    635\u001b[0m             \u001b[0mself\u001b[0m\u001b[0;34m.\u001b[0m\u001b[0mmetadata\u001b[0m \u001b[0;34m=\u001b[0m \u001b[0;34m{\u001b[0m\u001b[0;34m}\u001b[0m\u001b[0;34m\u001b[0m\u001b[0;34m\u001b[0m\u001b[0m\n\u001b[1;32m    636\u001b[0m \u001b[0;34m\u001b[0m\u001b[0m\n\u001b[0;32m--> 637\u001b[0;31m         \u001b[0mself\u001b[0m\u001b[0;34m.\u001b[0m\u001b[0mreload\u001b[0m\u001b[0;34m(\u001b[0m\u001b[0;34m)\u001b[0m\u001b[0;34m\u001b[0m\u001b[0;34m\u001b[0m\u001b[0m\n\u001b[0m\u001b[1;32m    638\u001b[0m         \u001b[0mself\u001b[0m\u001b[0;34m.\u001b[0m\u001b[0m_check_data\u001b[0m\u001b[0;34m(\u001b[0m\u001b[0;34m)\u001b[0m\u001b[0;34m\u001b[0m\u001b[0;34m\u001b[0m\u001b[0m\n\u001b[1;32m    639\u001b[0m \u001b[0;34m\u001b[0m\u001b[0m\n",
            "\u001b[0;32m/usr/local/lib/python3.10/dist-packages/IPython/core/display.py\u001b[0m in \u001b[0;36mreload\u001b[0;34m(self)\u001b[0m\n\u001b[1;32m   1261\u001b[0m         \u001b[0;34m\"\"\"Reload the raw data from file or URL.\"\"\"\u001b[0m\u001b[0;34m\u001b[0m\u001b[0;34m\u001b[0m\u001b[0m\n\u001b[1;32m   1262\u001b[0m         \u001b[0;32mif\u001b[0m \u001b[0mself\u001b[0m\u001b[0;34m.\u001b[0m\u001b[0membed\u001b[0m\u001b[0;34m:\u001b[0m\u001b[0;34m\u001b[0m\u001b[0;34m\u001b[0m\u001b[0m\n\u001b[0;32m-> 1263\u001b[0;31m             \u001b[0msuper\u001b[0m\u001b[0;34m(\u001b[0m\u001b[0mImage\u001b[0m\u001b[0;34m,\u001b[0m\u001b[0mself\u001b[0m\u001b[0;34m)\u001b[0m\u001b[0;34m.\u001b[0m\u001b[0mreload\u001b[0m\u001b[0;34m(\u001b[0m\u001b[0;34m)\u001b[0m\u001b[0;34m\u001b[0m\u001b[0;34m\u001b[0m\u001b[0m\n\u001b[0m\u001b[1;32m   1264\u001b[0m             \u001b[0;32mif\u001b[0m \u001b[0mself\u001b[0m\u001b[0;34m.\u001b[0m\u001b[0mretina\u001b[0m\u001b[0;34m:\u001b[0m\u001b[0;34m\u001b[0m\u001b[0;34m\u001b[0m\u001b[0m\n\u001b[1;32m   1265\u001b[0m                 \u001b[0mself\u001b[0m\u001b[0;34m.\u001b[0m\u001b[0m_retina_shape\u001b[0m\u001b[0;34m(\u001b[0m\u001b[0;34m)\u001b[0m\u001b[0;34m\u001b[0m\u001b[0;34m\u001b[0m\u001b[0m\n",
            "\u001b[0;32m/usr/local/lib/python3.10/dist-packages/IPython/core/display.py\u001b[0m in \u001b[0;36mreload\u001b[0;34m(self)\u001b[0m\n\u001b[1;32m    660\u001b[0m         \u001b[0;34m\"\"\"Reload the raw data from file or URL.\"\"\"\u001b[0m\u001b[0;34m\u001b[0m\u001b[0;34m\u001b[0m\u001b[0m\n\u001b[1;32m    661\u001b[0m         \u001b[0;32mif\u001b[0m \u001b[0mself\u001b[0m\u001b[0;34m.\u001b[0m\u001b[0mfilename\u001b[0m \u001b[0;32mis\u001b[0m \u001b[0;32mnot\u001b[0m \u001b[0;32mNone\u001b[0m\u001b[0;34m:\u001b[0m\u001b[0;34m\u001b[0m\u001b[0;34m\u001b[0m\u001b[0m\n\u001b[0;32m--> 662\u001b[0;31m             \u001b[0;32mwith\u001b[0m \u001b[0mopen\u001b[0m\u001b[0;34m(\u001b[0m\u001b[0mself\u001b[0m\u001b[0;34m.\u001b[0m\u001b[0mfilename\u001b[0m\u001b[0;34m,\u001b[0m \u001b[0mself\u001b[0m\u001b[0;34m.\u001b[0m\u001b[0m_read_flags\u001b[0m\u001b[0;34m)\u001b[0m \u001b[0;32mas\u001b[0m \u001b[0mf\u001b[0m\u001b[0;34m:\u001b[0m\u001b[0;34m\u001b[0m\u001b[0;34m\u001b[0m\u001b[0m\n\u001b[0m\u001b[1;32m    663\u001b[0m                 \u001b[0mself\u001b[0m\u001b[0;34m.\u001b[0m\u001b[0mdata\u001b[0m \u001b[0;34m=\u001b[0m \u001b[0mf\u001b[0m\u001b[0;34m.\u001b[0m\u001b[0mread\u001b[0m\u001b[0;34m(\u001b[0m\u001b[0;34m)\u001b[0m\u001b[0;34m\u001b[0m\u001b[0;34m\u001b[0m\u001b[0m\n\u001b[1;32m    664\u001b[0m         \u001b[0;32melif\u001b[0m \u001b[0mself\u001b[0m\u001b[0;34m.\u001b[0m\u001b[0murl\u001b[0m \u001b[0;32mis\u001b[0m \u001b[0;32mnot\u001b[0m \u001b[0;32mNone\u001b[0m\u001b[0;34m:\u001b[0m\u001b[0;34m\u001b[0m\u001b[0;34m\u001b[0m\u001b[0m\n",
            "\u001b[0;31mFileNotFoundError\u001b[0m: [Errno 2] No such file or directory: 'C:/Users/thiru/Downloads/tf2.jpeg'"
          ]
        }
      ]
    },
    {
      "cell_type": "markdown",
      "source": [
        "## tf.concat(values,axis)"
      ],
      "metadata": {
        "id": "3qNI9mPWuU4j"
      }
    },
    {
      "cell_type": "markdown",
      "source": [
        "tf.concat() is a function in TensorFlow, which is used to concatenate tensors along a given axis. It takes a list of tensors as input and returns a new tensor, which is the result of concatenating all the input tensors along the specified axis.\n",
        "\n",
        "The syntax for using tf.concat() is as follows:"
      ],
      "metadata": {
        "id": "CSJMjeDfuP4f"
      }
    },
    {
      "cell_type": "markdown",
      "source": [],
      "metadata": {
        "id": "X6SqjV64lQWk"
      }
    },
    {
      "cell_type": "code",
      "source": [
        "tf.concat([x,x,x], axis = 0)"
      ],
      "metadata": {
        "colab": {
          "base_uri": "https://localhost:8080/"
        },
        "id": "7KljdxGhkLMA",
        "outputId": "977b8a7c-bf21-4000-9e4f-47c2ac5d3f2b"
      },
      "execution_count": 26,
      "outputs": [
        {
          "output_type": "execute_result",
          "data": {
            "text/plain": [
              "<tf.Tensor: shape=(6, 3), dtype=float32, numpy=\n",
              "array([[1., 2., 3.],\n",
              "       [4., 5., 6.],\n",
              "       [1., 2., 3.],\n",
              "       [4., 5., 6.],\n",
              "       [1., 2., 3.],\n",
              "       [4., 5., 6.]], dtype=float32)>"
            ]
          },
          "metadata": {},
          "execution_count": 26
        }
      ]
    },
    {
      "cell_type": "code",
      "source": [
        "A = tf.constant([[1,2,3],[4,5,6]])\n",
        "B = tf.constant([[7,8,9,10],[11,12,13,14]])\n",
        "\n",
        "C = tf.concat([A,B], axis = 1)\n",
        "print(C)"
      ],
      "metadata": {
        "colab": {
          "base_uri": "https://localhost:8080/"
        },
        "id": "pj5dnSZjtaF4",
        "outputId": "e01aab17-6d04-48a6-f2e4-fc35df72e0fc"
      },
      "execution_count": 27,
      "outputs": [
        {
          "output_type": "stream",
          "name": "stdout",
          "text": [
            "tf.Tensor(\n",
            "[[ 1  2  3  7  8  9 10]\n",
            " [ 4  5  6 11 12 13 14]], shape=(2, 7), dtype=int32)\n"
          ]
        }
      ]
    },
    {
      "cell_type": "code",
      "source": [
        "A = tf.constant([[1,2,3,4],[4,5,6,7]])\n",
        "B = tf.constant([[7,8,9,10],[11,12,13,14]])\n",
        "\n",
        "C = tf.concat([A,B], axis = 0)\n",
        "print(C)"
      ],
      "metadata": {
        "colab": {
          "base_uri": "https://localhost:8080/"
        },
        "id": "UKVCcczHvXoQ",
        "outputId": "f09b24c8-834f-4ec8-d92e-44e23d7ed53b"
      },
      "execution_count": 28,
      "outputs": [
        {
          "output_type": "stream",
          "name": "stdout",
          "text": [
            "tf.Tensor(\n",
            "[[ 1  2  3  4]\n",
            " [ 4  5  6  7]\n",
            " [ 7  8  9 10]\n",
            " [11 12 13 14]], shape=(4, 4), dtype=int32)\n"
          ]
        }
      ]
    },
    {
      "cell_type": "markdown",
      "source": [
        "# tf.nn.softmax()"
      ],
      "metadata": {
        "id": "iowLSPYVwAzX"
      }
    },
    {
      "cell_type": "markdown",
      "source": [
        "tf.nn.softmax() is a function in TensorFlow that computes the softmax activation function for a given input tensor. The softmax function is a commonly used activation function in neural networks, especially for multi-class classification problems.\n",
        "\n",
        "The softmax function takes a vector of real-valued scores as input and normalizes them into a probability distribution over the classes. The output of the softmax function is a vector of probabilities, where each element represents the probability of the input belonging to a particular class.\n",
        "\n",
        "The syntax for using tf.nn.softmax() is as follows:"
      ],
      "metadata": {
        "id": "jAKCSQ9XybYK"
      }
    },
    {
      "cell_type": "code",
      "source": [
        "#tf.nn.softmax(logits, axis=None, name=None)"
      ],
      "metadata": {
        "id": "gdOems1tyfUn"
      },
      "execution_count": null,
      "outputs": []
    },
    {
      "cell_type": "code",
      "source": [
        "tf.nn.softmax(x, axis = -1)"
      ],
      "metadata": {
        "colab": {
          "base_uri": "https://localhost:8080/"
        },
        "id": "xedlTLlRvtRR",
        "outputId": "361b16e6-62c9-40dd-f6d5-97f7a31bc858"
      },
      "execution_count": 29,
      "outputs": [
        {
          "output_type": "execute_result",
          "data": {
            "text/plain": [
              "<tf.Tensor: shape=(2, 3), dtype=float32, numpy=\n",
              "array([[0.09003057, 0.24472848, 0.66524094],\n",
              "       [0.09003057, 0.24472848, 0.66524094]], dtype=float32)>"
            ]
          },
          "metadata": {},
          "execution_count": 29
        }
      ]
    },
    {
      "cell_type": "markdown",
      "source": [
        "## tf.reduce_sum():"
      ],
      "metadata": {
        "id": "Ly-1HArszkIz"
      }
    },
    {
      "cell_type": "markdown",
      "source": [
        "tf.reduce_sum() is a function in TensorFlow that computes the sum of all the elements in a tensor, or along a specified axis of a tensor. It is a useful operation in various machine learning applications, such as computing the loss function or computing accuracy.\n",
        "\n",
        "The syntax for using tf.reduce_sum() is as follows:"
      ],
      "metadata": {
        "id": "Cmkn4KrH0Q0N"
      }
    },
    {
      "cell_type": "code",
      "source": [
        "#tf.reduce_sum(input_tensor, axis=None, keepdims=False, name=None)\n"
      ],
      "metadata": {
        "id": "XPcguefU0Sf_"
      },
      "execution_count": null,
      "outputs": []
    },
    {
      "cell_type": "code",
      "source": [
        "tf.reduce_sum(x)"
      ],
      "metadata": {
        "colab": {
          "base_uri": "https://localhost:8080/"
        },
        "id": "V-4trnLs0V8o",
        "outputId": "0acb5e53-0b90-4c93-e3b1-74971f38a957"
      },
      "execution_count": 30,
      "outputs": [
        {
          "output_type": "execute_result",
          "data": {
            "text/plain": [
              "<tf.Tensor: shape=(), dtype=float32, numpy=21.0>"
            ]
          },
          "metadata": {},
          "execution_count": 30
        }
      ]
    },
    {
      "cell_type": "code",
      "source": [
        "tf.reduce_sum(x,axis = 1)"
      ],
      "metadata": {
        "colab": {
          "base_uri": "https://localhost:8080/"
        },
        "id": "pZoZMqyy11iz",
        "outputId": "2929875b-188d-4d58-b3dd-f9bca61ecfb8"
      },
      "execution_count": 31,
      "outputs": [
        {
          "output_type": "execute_result",
          "data": {
            "text/plain": [
              "<tf.Tensor: shape=(2,), dtype=float32, numpy=array([ 6., 15.], dtype=float32)>"
            ]
          },
          "metadata": {},
          "execution_count": 31
        }
      ]
    },
    {
      "cell_type": "code",
      "source": [
        "tf.reduce_sum(x,axis = 0)"
      ],
      "metadata": {
        "colab": {
          "base_uri": "https://localhost:8080/"
        },
        "id": "_klvQl0817mn",
        "outputId": "4b638a3b-25e1-4d82-fab5-f9e26a3e1286"
      },
      "execution_count": 32,
      "outputs": [
        {
          "output_type": "execute_result",
          "data": {
            "text/plain": [
              "<tf.Tensor: shape=(3,), dtype=float32, numpy=array([5., 7., 9.], dtype=float32)>"
            ]
          },
          "metadata": {},
          "execution_count": 32
        }
      ]
    },
    {
      "cell_type": "code",
      "source": [
        "y = tf.constant([[[1,2,3,],\n",
        "                  [3,4,5],\n",
        "                  [5,6,7]]])\n",
        "a = tf.reduce_sum(y)\n",
        "b = tf.reduce_sum(y,axis = 0)\n",
        "c = tf.reduce_sum(y, axis = 1)\n",
        "print(a)\n",
        "print(b)\n",
        "print(c)"
      ],
      "metadata": {
        "colab": {
          "base_uri": "https://localhost:8080/"
        },
        "id": "X-lq3w-s3Q_H",
        "outputId": "37a528c8-a3a2-4562-a3a7-5d28f55d18c5"
      },
      "execution_count": 33,
      "outputs": [
        {
          "output_type": "stream",
          "name": "stdout",
          "text": [
            "tf.Tensor(36, shape=(), dtype=int32)\n",
            "tf.Tensor(\n",
            "[[1 2 3]\n",
            " [3 4 5]\n",
            " [5 6 7]], shape=(3, 3), dtype=int32)\n",
            "tf.Tensor([[ 9 12 15]], shape=(1, 3), dtype=int32)\n"
          ]
        }
      ]
    },
    {
      "cell_type": "markdown",
      "source": [
        "## tf.convet_to_tensor():"
      ],
      "metadata": {
        "id": "XIzIhPzJ5UC3"
      }
    },
    {
      "cell_type": "markdown",
      "source": [
        "tf.convert_to_tensor() is a function in TensorFlow that converts a given value to a tensor. This function is useful when you want to ensure that a given value is represented as a tensor in TensorFlow, regardless of its original type or shape.\n",
        "\n",
        "The syntax for using tf.convert_to_tensor() is as follows:"
      ],
      "metadata": {
        "id": "4DsQWvKY566d"
      }
    },
    {
      "cell_type": "code",
      "source": [
        "#tf.convert_to_tensor(value, dtype=None, dtype_hint=None, name=None)\n"
      ],
      "metadata": {
        "id": "FV-6DJtz4QUX"
      },
      "execution_count": null,
      "outputs": []
    },
    {
      "cell_type": "code",
      "source": [
        "tf.convert_to_tensor([1,2,3])"
      ],
      "metadata": {
        "colab": {
          "base_uri": "https://localhost:8080/"
        },
        "id": "8_9GmjAm6COI",
        "outputId": "c22ec53a-f17b-4cbe-dbde-77a54180d5bc"
      },
      "execution_count": 34,
      "outputs": [
        {
          "output_type": "execute_result",
          "data": {
            "text/plain": [
              "<tf.Tensor: shape=(3,), dtype=int32, numpy=array([1, 2, 3], dtype=int32)>"
            ]
          },
          "metadata": {},
          "execution_count": 34
        }
      ]
    },
    {
      "cell_type": "code",
      "source": [
        "z = [1,2,3,4,5]\n",
        "u = tf.convert_to_tensor(z)\n",
        "print(u)"
      ],
      "metadata": {
        "colab": {
          "base_uri": "https://localhost:8080/"
        },
        "id": "eDVq4TEz6doW",
        "outputId": "7b453c57-9d12-43b6-995b-32f93cdab3f1"
      },
      "execution_count": 35,
      "outputs": [
        {
          "output_type": "stream",
          "name": "stdout",
          "text": [
            "tf.Tensor([1 2 3 4 5], shape=(5,), dtype=int32)\n"
          ]
        }
      ]
    },
    {
      "cell_type": "code",
      "source": [
        "x = 3.14\n",
        "v = tf.convert_to_tensor(x, dtype = tf.float32)\n",
        "print(v)"
      ],
      "metadata": {
        "colab": {
          "base_uri": "https://localhost:8080/"
        },
        "id": "6uTSvMhT662X",
        "outputId": "63f82d91-cd32-47f2-9d96-940fa76b2cf3"
      },
      "execution_count": 36,
      "outputs": [
        {
          "output_type": "stream",
          "name": "stdout",
          "text": [
            "tf.Tensor(3.14, shape=(), dtype=float32)\n"
          ]
        }
      ]
    },
    {
      "cell_type": "code",
      "source": [
        "tf.reduce_sum(u)"
      ],
      "metadata": {
        "colab": {
          "base_uri": "https://localhost:8080/"
        },
        "id": "-Xnok-v97XY4",
        "outputId": "c7dcce7a-3976-4b05-a87d-fd0453fc56f2"
      },
      "execution_count": 37,
      "outputs": [
        {
          "output_type": "execute_result",
          "data": {
            "text/plain": [
              "<tf.Tensor: shape=(), dtype=int32, numpy=15>"
            ]
          },
          "metadata": {},
          "execution_count": 37
        }
      ]
    },
    {
      "cell_type": "code",
      "source": [
        "tf.reduce_sum([1,3,4,5,7,9])"
      ],
      "metadata": {
        "colab": {
          "base_uri": "https://localhost:8080/"
        },
        "id": "WvckDz-l7nhx",
        "outputId": "7d4537a8-5d87-409b-819c-d618e9a4b8c1"
      },
      "execution_count": 38,
      "outputs": [
        {
          "output_type": "execute_result",
          "data": {
            "text/plain": [
              "<tf.Tensor: shape=(), dtype=int32, numpy=29>"
            ]
          },
          "metadata": {},
          "execution_count": 38
        }
      ]
    },
    {
      "cell_type": "code",
      "source": [
        "if tf.config.list_physical_devices('GPU'):\n",
        "  print(\"TensorFlow **IS** using the GPU\")\n",
        "else:\n",
        "  print(\"TensorFlow **IS NOT** using the GPU\")"
      ],
      "metadata": {
        "colab": {
          "base_uri": "https://localhost:8080/"
        },
        "id": "frtDwEwH7-ZG",
        "outputId": "fe163720-727d-49ab-cd05-4bb6fb30ab6c"
      },
      "execution_count": 39,
      "outputs": [
        {
          "output_type": "stream",
          "name": "stdout",
          "text": [
            "TensorFlow **IS NOT** using the GPU\n"
          ]
        }
      ]
    },
    {
      "cell_type": "markdown",
      "source": [
        "## Variables:"
      ],
      "metadata": {
        "id": "AGrPyg5k8b__"
      }
    },
    {
      "cell_type": "markdown",
      "source": [
        "Normal tf.Tensor objects are immutable. To store model weights (or other mutable state) in TensorFlow use a tf.Variable."
      ],
      "metadata": {
        "id": "IDAqepAz8svR"
      }
    },
    {
      "cell_type": "code",
      "source": [
        "var = tf.Variable([0.0, 0.0,0.0])\n",
        "var.assign([1,2,3])"
      ],
      "metadata": {
        "colab": {
          "base_uri": "https://localhost:8080/"
        },
        "id": "PeNSQYK_8VDP",
        "outputId": "3c9b462e-1fed-499a-d912-478ed9144254"
      },
      "execution_count": 40,
      "outputs": [
        {
          "output_type": "execute_result",
          "data": {
            "text/plain": [
              "<tf.Variable 'UnreadVariable' shape=(3,) dtype=float32, numpy=array([1., 2., 3.], dtype=float32)>"
            ]
          },
          "metadata": {},
          "execution_count": 40
        }
      ]
    },
    {
      "cell_type": "code",
      "source": [
        "var.assign_add([1,1,1])"
      ],
      "metadata": {
        "colab": {
          "base_uri": "https://localhost:8080/"
        },
        "id": "SIV3cP5C9DPT",
        "outputId": "8bc292cb-2716-4084-f092-1e2ded0b7ecc"
      },
      "execution_count": 41,
      "outputs": [
        {
          "output_type": "execute_result",
          "data": {
            "text/plain": [
              "<tf.Variable 'UnreadVariable' shape=(3,) dtype=float32, numpy=array([2., 3., 4.], dtype=float32)>"
            ]
          },
          "metadata": {},
          "execution_count": 41
        }
      ]
    },
    {
      "cell_type": "code",
      "source": [
        "var.assign_sub([1,2,3])"
      ],
      "metadata": {
        "colab": {
          "base_uri": "https://localhost:8080/"
        },
        "id": "vGBv_h499S1V",
        "outputId": "063b4804-9c93-40cd-d9b1-b3238412ff99"
      },
      "execution_count": 42,
      "outputs": [
        {
          "output_type": "execute_result",
          "data": {
            "text/plain": [
              "<tf.Variable 'UnreadVariable' shape=(3,) dtype=float32, numpy=array([1., 1., 1.], dtype=float32)>"
            ]
          },
          "metadata": {},
          "execution_count": 42
        }
      ]
    },
    {
      "cell_type": "code",
      "source": [],
      "metadata": {
        "id": "Lgtp6t9N92gN"
      },
      "execution_count": null,
      "outputs": []
    },
    {
      "cell_type": "code",
      "source": [],
      "metadata": {
        "id": "049gbngG-Ij6"
      },
      "execution_count": null,
      "outputs": []
    },
    {
      "cell_type": "code",
      "source": [],
      "metadata": {
        "id": "n-GjXC52-JO2"
      },
      "execution_count": null,
      "outputs": []
    },
    {
      "cell_type": "markdown",
      "source": [
        "## Automatic Differentiation:"
      ],
      "metadata": {
        "id": "_wwXj-Sb-Js4"
      }
    },
    {
      "cell_type": "markdown",
      "source": [
        "To enable this, TensorFlow implements automatic differentiation (autodiff), which uses calculus to compute gradients. Typically you'll use this to calculate the gradient of a model's error or loss with respect to its weights."
      ],
      "metadata": {
        "id": "FnWBYU9f-uf_"
      }
    },
    {
      "cell_type": "code",
      "source": [
        "x = tf.Variable(1.0)\n",
        "\n",
        "def f(x):\n",
        "  y = x**2+2*x - 5\n",
        "  return y"
      ],
      "metadata": {
        "id": "jktMUktD-X7b"
      },
      "execution_count": 43,
      "outputs": []
    },
    {
      "cell_type": "code",
      "source": [
        "f(x)"
      ],
      "metadata": {
        "colab": {
          "base_uri": "https://localhost:8080/"
        },
        "id": "GLkB1xhv_ZmK",
        "outputId": "64230d82-285e-4a04-8021-5e6967c284c5"
      },
      "execution_count": 44,
      "outputs": [
        {
          "output_type": "execute_result",
          "data": {
            "text/plain": [
              "<tf.Tensor: shape=(), dtype=float32, numpy=-2.0>"
            ]
          },
          "metadata": {},
          "execution_count": 44
        }
      ]
    },
    {
      "cell_type": "markdown",
      "source": [
        "At x = 1.0, y = f(x) = (1**2 + 2*1 - 5) = -2.\n",
        "\n",
        "The derivative of y is y' = f'(x) = (2*x + 2) = 4. TensorFlow can calculate this automatically:"
      ],
      "metadata": {
        "id": "NKylBmDu_xsn"
      }
    },
    {
      "cell_type": "code",
      "source": [
        "with tf.GradientTape() as tape:\n",
        "  y = f(x)\n",
        "g_x = tape.gradient(y,x)   #g(x) = dy/dx\n",
        "g_x"
      ],
      "metadata": {
        "colab": {
          "base_uri": "https://localhost:8080/"
        },
        "id": "E__dAt52_dcM",
        "outputId": "d406137f-5c45-4ce1-d30e-1cbd897b2dc9"
      },
      "execution_count": 45,
      "outputs": [
        {
          "output_type": "execute_result",
          "data": {
            "text/plain": [
              "<tf.Tensor: shape=(), dtype=float32, numpy=4.0>"
            ]
          },
          "metadata": {},
          "execution_count": 45
        }
      ]
    },
    {
      "cell_type": "markdown",
      "source": [
        "## Graphs and tf.function"
      ],
      "metadata": {
        "id": "Rzi9JDyKMRNO"
      }
    },
    {
      "cell_type": "markdown",
      "source": [
        "While you can use Tensorflow interactivelylike  any Python library, TensorFlow also Privide tools for:\n",
        "\n",
        "\n",
        "1.   Performance Optimization:to speed uptraining and inference\n",
        "2.   Export:so you can save your model when its done training.\n",
        "\n",
        "These require that you use tf.function to seperate your pure-Tensorflow code from Python\n",
        "\n"
      ],
      "metadata": {
        "id": "Hm_ElWIPNPB3"
      }
    },
    {
      "cell_type": "code",
      "source": [
        "@tf.function\n",
        "def my_func(x):\n",
        "  print('Tracing. \\n')\n",
        "  return tf.reduce_sum(x)"
      ],
      "metadata": {
        "id": "IDYvwRdcAnH0"
      },
      "execution_count": 46,
      "outputs": []
    },
    {
      "cell_type": "markdown",
      "source": [
        "The first time you run the tf.function, although its executes in Python, it captures  a completet, optimized graph reprenting the Tnsorflow computations done within the function."
      ],
      "metadata": {
        "id": "WdImgcxBP-F9"
      }
    },
    {
      "cell_type": "code",
      "source": [
        "x = tf.constant([1,2,3])\n",
        "my_func(x)"
      ],
      "metadata": {
        "id": "vLIjd4UEPTCh",
        "outputId": "5810cd53-e764-4f97-b7b9-6797076a145a",
        "colab": {
          "base_uri": "https://localhost:8080/"
        }
      },
      "execution_count": 47,
      "outputs": [
        {
          "output_type": "stream",
          "name": "stdout",
          "text": [
            "Tracing. \n",
            "\n"
          ]
        },
        {
          "output_type": "execute_result",
          "data": {
            "text/plain": [
              "<tf.Tensor: shape=(), dtype=int32, numpy=6>"
            ]
          },
          "metadata": {},
          "execution_count": 47
        }
      ]
    },
    {
      "cell_type": "markdown",
      "source": [
        "On subsequent calls TensorFlow only executes the optimized graph, skipping any non-TensorFlow steps. Below, note that my_func doesn't print tracing since print is a Python function, not a TensorFlow function."
      ],
      "metadata": {
        "id": "kEuKmASdRT3i"
      }
    },
    {
      "cell_type": "code",
      "source": [
        "x = tf.constant([10,9,8])\n",
        "my_func(x)"
      ],
      "metadata": {
        "id": "joLngsyPQv7K",
        "outputId": "804726bf-44f1-41b8-e4a9-1784f8f985dd",
        "colab": {
          "base_uri": "https://localhost:8080/"
        }
      },
      "execution_count": 48,
      "outputs": [
        {
          "output_type": "execute_result",
          "data": {
            "text/plain": [
              "<tf.Tensor: shape=(), dtype=int32, numpy=27>"
            ]
          },
          "metadata": {},
          "execution_count": 48
        }
      ]
    },
    {
      "cell_type": "markdown",
      "source": [
        " graph may not be reusable for inputs with a different signature (shape and dtype), so a new graph is generated instead:"
      ],
      "metadata": {
        "id": "dYYxHUPbR77k"
      }
    },
    {
      "cell_type": "code",
      "source": [
        "x = tf.constant([10.0,9.1,8.2], dtype = tf.float32)\n",
        "my_func(x)"
      ],
      "metadata": {
        "id": "UvR_0kp1Rb3N",
        "outputId": "c01f399b-5809-4e1b-bda4-144d2a8023f2",
        "colab": {
          "base_uri": "https://localhost:8080/"
        }
      },
      "execution_count": 49,
      "outputs": [
        {
          "output_type": "stream",
          "name": "stdout",
          "text": [
            "Tracing. \n",
            "\n"
          ]
        },
        {
          "output_type": "execute_result",
          "data": {
            "text/plain": [
              "<tf.Tensor: shape=(), dtype=float32, numpy=27.3>"
            ]
          },
          "metadata": {},
          "execution_count": 49
        }
      ]
    },
    {
      "cell_type": "markdown",
      "source": [
        "These captured graphs provude two benefits:\n",
        "\n",
        "\n",
        "1.   in many cases they provide a significant  speedup in execution(through not this trival example).\n",
        "2.   You can export these graphs, using tf.saved_model, to run on other systems like a server or a mobile device, no Python installation required.\n",
        "\n"
      ],
      "metadata": {
        "id": "oZH8Q-ZBSb1-"
      }
    },
    {
      "cell_type": "markdown",
      "source": [
        "## Modules,layers, and models"
      ],
      "metadata": {
        "id": "hftnZI9YTXzO"
      }
    },
    {
      "cell_type": "markdown",
      "source": [
        "tf.Module is class for managing your tf.Variable objects and the tf.function objects thats operate on them. the tf.Module class is necessaryto supporttwo significants features:\n",
        "\n",
        "\n",
        "1.   You can save and restore the values of your variables using tf.train.Checkpoint this is useful duringtraining as it is quick to save and retore a model's state\n",
        "2.   You can import and export the tf.Variable values and the tf.function graphs using tf.saved_model. this allows yyou to run your model independently of the Python programe that created it.\n",
        "\n"
      ],
      "metadata": {
        "id": "vSHMVHPoTe-z"
      }
    },
    {
      "cell_type": "markdown",
      "source": [
        "Here is a Complete exporting a simple tf.Module object:"
      ],
      "metadata": {
        "id": "b-8mMJlPWef5"
      }
    },
    {
      "cell_type": "code",
      "source": [
        "class MyProject(tf.Module):\n",
        "  def __init__(self,value):\n",
        "    self.weight = tf.Variable(value)\n",
        "  \n",
        "  @tf.function\n",
        "  def multiply(self, x):\n",
        "    return x*self.weight\n",
        "\n",
        "mod = MyProject(3)\n",
        "mod.multiply(tf.constant([1,2,3]))\n",
        "\n"
      ],
      "metadata": {
        "id": "RMfA75lVVVQv",
        "outputId": "8d7edcfb-e445-4e04-c1f7-42a8d2810596",
        "colab": {
          "base_uri": "https://localhost:8080/"
        }
      },
      "execution_count": 50,
      "outputs": [
        {
          "output_type": "execute_result",
          "data": {
            "text/plain": [
              "<tf.Tensor: shape=(3,), dtype=int32, numpy=array([3, 6, 9], dtype=int32)>"
            ]
          },
          "metadata": {},
          "execution_count": 50
        }
      ]
    },
    {
      "cell_type": "markdown",
      "source": [
        "## Save the Module:"
      ],
      "metadata": {
        "id": "6fyCVbwy2FO8"
      }
    },
    {
      "cell_type": "code",
      "source": [
        "save_path = './saved'\n",
        "tf.saved_model.save(mod, save_path)"
      ],
      "metadata": {
        "id": "1zpQ11h-wNvM"
      },
      "execution_count": 51,
      "outputs": []
    },
    {
      "cell_type": "markdown",
      "source": [
        "The resulting savedModel is independent of the code that created it.you can load a savedModel from Python others language bindings, or Tensorflow serving you can also convert it to run with tensorflow lite or Tensorflow JS"
      ],
      "metadata": {
        "id": "gmssgO8I2ZN-"
      }
    },
    {
      "cell_type": "code",
      "source": [
        "reloaded = tf.saved_model.load(save_path)\n",
        "reloaded.multiply(tf.constant([1,2,3]))"
      ],
      "metadata": {
        "id": "thXMRtku2Ck_",
        "outputId": "41e7309c-8941-4c0a-e51a-0150c0c95f55",
        "colab": {
          "base_uri": "https://localhost:8080/"
        }
      },
      "execution_count": 52,
      "outputs": [
        {
          "output_type": "execute_result",
          "data": {
            "text/plain": [
              "<tf.Tensor: shape=(3,), dtype=int32, numpy=array([3, 6, 9], dtype=int32)>"
            ]
          },
          "metadata": {},
          "execution_count": 52
        }
      ]
    },
    {
      "cell_type": "markdown",
      "source": [
        "The tf.keras.layers.Layer and tf.keras.Model classes build on tf.Module providing additional functionality and convenience methods for building, training, and saving models. Some of these are demonstrated in the next section."
      ],
      "metadata": {
        "id": "4W9y139t4LJP"
      }
    },
    {
      "cell_type": "markdown",
      "source": [
        "## Training loops"
      ],
      "metadata": {
        "id": "xocNnPqa4R5n"
      }
    },
    {
      "cell_type": "code",
      "source": [
        "import matplotlib\n",
        "from matplotlib import pyplot as plt\n",
        "matplotlib.rcParams['figure.figsize'] = [9,6]"
      ],
      "metadata": {
        "id": "2S5Lk9r73-wa"
      },
      "execution_count": 53,
      "outputs": []
    },
    {
      "cell_type": "code",
      "source": [
        "x = tf.linspace(-2,2,201)\n",
        "x = tf.cast(x, tf.float32)\n",
        "\n",
        "def f(x):\n",
        "  y = x**2 + 2*x - 5\n",
        "  return y\n",
        "\n",
        "y = f(x) + tf.random.normal(shape = [201])\n",
        "\n",
        "plt.plot(x.numpy(), y.numpy(), '.', label = 'Data')\n",
        "plt.plot(x,f(x), label = \"Ground truth\")\n",
        "plt.legend();\n"
      ],
      "metadata": {
        "id": "8zoiz4r7NP8G",
        "outputId": "ac25e388-6b48-4de4-dd33-465fadbe858a",
        "colab": {
          "base_uri": "https://localhost:8080/",
          "height": 524
        }
      },
      "execution_count": 54,
      "outputs": [
        {
          "output_type": "display_data",
          "data": {
            "text/plain": [
              "<Figure size 900x600 with 1 Axes>"
            ],
            "image/png": "[encoded data removed]"
          },
          "metadata": {}
        }
      ]
    },
    {
      "cell_type": "markdown",
      "source": [
        "Create a quadratic model with randomly initialized weights and a bias:"
      ],
      "metadata": {
        "id": "iS-QENCnPRx0"
      }
    },
    {
      "cell_type": "code",
      "source": [
        "class Model(tf.Module):\n",
        "  def __init__(self):\n",
        "    #randomly generate weight and bias terms\n",
        "    rand_init = tf.random.uniform(shape = [3], minval = 0.,maxval = 5.,seed = 22)\n",
        "    #Initialized model parameters\n",
        "    self.w_q = tf.Variable(rand_init[0])\n",
        "    self.w_l = tf.Variable(rand_init[1])\n",
        "    self.b = tf.Variable(rand_init[2])\n",
        "\n",
        "  @tf.function\n",
        "  def __call__(self, x):\n",
        "    #Quafratic Model: quadratic_weight * x^2 +linear_weight * x +bias\n",
        "    return self.w_q * (x**2) + self.w_l * x + self.b"
      ],
      "metadata": {
        "id": "T1gbmj8OOk3i"
      },
      "execution_count": 55,
      "outputs": []
    },
    {
      "cell_type": "markdown",
      "source": [
        "First,observe your model's performance before traninig:"
      ],
      "metadata": {
        "id": "EZVhQrgDSiui"
      }
    },
    {
      "cell_type": "code",
      "source": [
        "quad_model = Model()"
      ],
      "metadata": {
        "id": "PY9BLkJlQ7T0"
      },
      "execution_count": 56,
      "outputs": []
    },
    {
      "cell_type": "code",
      "source": [
        "def plot_preds(x, y, f, model, title):\n",
        "  plt.figure()\n",
        "  plt.plot(x, y, '.', label = 'Data')\n",
        "  plt.plot(x, f(x), label = 'Ground truth')\n",
        "  plt.plot(x, model(x), label = 'Predictions')\n",
        "  plt.title(title)\n",
        "  plt.legend()"
      ],
      "metadata": {
        "id": "7CnUzHrxS1mE"
      },
      "execution_count": 57,
      "outputs": []
    },
    {
      "cell_type": "code",
      "source": [
        "plot_preds(x, y, f, quad_model,  'Before training')"
      ],
      "metadata": {
        "id": "GmJBBYjITsMJ",
        "outputId": "151e20a4-aacc-4774-ff63-acd8f75ff1b4",
        "colab": {
          "base_uri": "https://localhost:8080/",
          "height": 545
        }
      },
      "execution_count": 58,
      "outputs": [
        {
          "output_type": "display_data",
          "data": {
            "text/plain": [
              "<Figure size 900x600 with 1 Axes>"
            ],
            "image/png": "[encoded data removed]"
          },
          "metadata": {}
        }
      ]
    },
    {
      "cell_type": "markdown",
      "source": [
        "Now, define a loss for your model:\n",
        "\n",
        "Given that this model is intended to predict continuous values, the mean squared error (MSE) is a good choice for the loss function. Given a vector of predictions,Ŷ\n",
        ", and a vector of true targets, Y\n",
        ", the MSE is defined as the mean of the squared differences between the predicted values and the ground truth.\n"
      ],
      "metadata": {
        "id": "T_ax2TqVUa3m"
      }
    },
    {
      "cell_type": "code",
      "source": [
        "from IPython.display import Image\n",
        "Image(filename = )"
      ],
      "metadata": {
        "id": "yeEUXvfhT9Kd",
        "outputId": "8543b8b4-c481-401d-f96c-5c3daa2b4f01",
        "colab": {
          "base_uri": "https://localhost:8080/",
          "height": 132
        }
      },
      "execution_count": 59,
      "outputs": [
        {
          "output_type": "error",
          "ename": "SyntaxError",
          "evalue": "ignored",
          "traceback": [
            "\u001b[0;36m  File \u001b[0;32m\"<ipython-input-59-72ce28481bd2>\"\u001b[0;36m, line \u001b[0;32m2\u001b[0m\n\u001b[0;31m    Image(filename = )\u001b[0m\n\u001b[0m                     ^\u001b[0m\n\u001b[0;31mSyntaxError\u001b[0m\u001b[0;31m:\u001b[0m invalid syntax\n"
          ]
        }
      ]
    },
    {
      "cell_type": "code",
      "source": [
        "def mse_loss(y_pred, y):\n",
        "  return tf.reduce_mean(tf.square(y_pred - y))"
      ],
      "metadata": {
        "id": "a8PBfqGS6iAF"
      },
      "execution_count": 60,
      "outputs": []
    },
    {
      "cell_type": "markdown",
      "source": [
        "Write a basic training loop for the model. The loop will make use of the MSE loss function and its gradients with respect to the input in order to iteratively update the model's parameters. Using mini-batches for training provides both memory efficienciy and faster convergence. The tf.data.Dataset API has useful functions for batching and shuffling."
      ],
      "metadata": {
        "id": "5FRnRdCs8cEA"
      }
    },
    {
      "cell_type": "code",
      "source": [
        "batch_size = 32\n",
        "dataset = tf.data.Dataset.from_tensor_slices((x, y))\n",
        "dataset = dataset.shuffle(buffer_size = x.shape[0]).batch(batch_size)"
      ],
      "metadata": {
        "id": "bYv0ugKK7Egp"
      },
      "execution_count": 61,
      "outputs": []
    },
    {
      "cell_type": "code",
      "source": [
        "# Set training parameters\n",
        "epochs = 100\n",
        "learning_rate = 0.01\n",
        "losses = []\n",
        "\n",
        "# Format training loop\n",
        "for epoch in range(epochs):\n",
        "  for x_batch, y_batch in dataset:\n",
        "    with tf.GradientTape() as tape:\n",
        "      batch_loss = mse_loss(quad_model(x_batch), y_batch)\n",
        "    # Update parameters with respect to the gradient calculations\n",
        "    grads = tape.gradient(batch_loss, quad_model.variables)\n",
        "    for g,v in zip(grads, quad_model.variables):\n",
        "        v.assign_sub(learning_rate*g)\n",
        "  # Keep track of model loss per epoch\n",
        "  loss = mse_loss(quad_model(x), y)\n",
        "  losses.append(loss)\n",
        "  if epoch % 10 == 0:\n",
        "    print(f'Mean squared error for step {epoch}: {loss.numpy():0.3f}')\n",
        "\n",
        "# Plot model results\n",
        "print(\"\\n\")\n",
        "plt.plot(range(epochs), losses)\n",
        "plt.xlabel(\"Epoch\")\n",
        "plt.ylabel(\"Mean Squared Error (MSE)\")\n",
        "plt.title('MSE loss vs training iterations');"
      ],
      "metadata": {
        "id": "jDpLfMQM9hmj",
        "outputId": "a508d19b-e3f1-45d0-baa7-59e84443dfae",
        "colab": {
          "base_uri": "https://localhost:8080/",
          "height": 772
        }
      },
      "execution_count": 62,
      "outputs": [
        {
          "output_type": "stream",
          "name": "stdout",
          "text": [
            "Mean squared error for step 0: 70.807\n",
            "Mean squared error for step 10: 4.420\n",
            "Mean squared error for step 20: 2.230\n",
            "Mean squared error for step 30: 1.477\n",
            "Mean squared error for step 40: 1.202\n",
            "Mean squared error for step 50: 1.119\n",
            "Mean squared error for step 60: 1.086\n",
            "Mean squared error for step 70: 1.074\n",
            "Mean squared error for step 80: 1.068\n",
            "Mean squared error for step 90: 1.066\n",
            "\n",
            "\n"
          ]
        },
        {
          "output_type": "display_data",
          "data": {
            "text/plain": [
              "<Figure size 900x600 with 1 Axes>"
            ],
            "image/png": "[encoded data removed]"
          },
          "metadata": {}
        }
      ]
    },
    {
      "cell_type": "markdown",
      "source": [
        "Now Observe your model's performing after training:"
      ],
      "metadata": {
        "id": "YALFQudWDHZ0"
      }
    },
    {
      "cell_type": "code",
      "source": [
        "plot_preds(x, y, f, quad_model, 'After training')"
      ],
      "metadata": {
        "id": "GKR7bdbQA4sK",
        "outputId": "67638331-5b38-482c-9655-59c366e65b8d",
        "colab": {
          "base_uri": "https://localhost:8080/",
          "height": 545
        }
      },
      "execution_count": 63,
      "outputs": [
        {
          "output_type": "display_data",
          "data": {
            "text/plain": [
              "<Figure size 900x600 with 1 Axes>"
            ],
            "image/png": "[encoded data removed]"
          },
          "metadata": {}
        }
      ]
    },
    {
      "cell_type": "markdown",
      "source": [
        "That's working, but remember that implementations of common training utilities are available in the tf.keras module. So, consider using those before writing your own. To start with, the Model.compile and Model.fit methods implement a training loop for you:\n",
        "\n",
        "Begin by creating a Sequential Model in Keras using tf.keras.Sequential. One of the simplest Keras layers is the dense layer, which can be instantiated with tf.keras.layers.Dense. The dense layer is able to learn multidimensional linear relationships of the form Y = WX + b\n",
        ". In order to learn a nonlinear equation of the form,w1x^2 + w2x + b \n",
        ", the dense layer's input should be a data matrix with x^2 \n",
        " and x \n",
        " as features. The lambda layer, tf.keras.layers.Lambda, can be used to perform this stacking transformation."
      ],
      "metadata": {
        "id": "w-PqYelIEDkN"
      }
    },
    {
      "cell_type": "code",
      "source": [
        "new_model = tf.keras.Sequential([\n",
        "    tf.keras.layers.Lambda(lambda x: tf.stack([x, x**2], axis = 1)),\n",
        "    tf.keras.layers.Dense(units =1, kernel_initializer = tf.random.normal)])"
      ],
      "metadata": {
        "id": "VbVGz4KCDtJ6"
      },
      "execution_count": 65,
      "outputs": []
    },
    {
      "cell_type": "code",
      "source": [
        "new_model.compile(\n",
        "    loss =tf.keras.losses.MSE,\n",
        "    optimizer = tf.keras.optimizers.SGD(learning_rate = 0.01))\n",
        "history = new_model.fit(x, y,\n",
        "                        epochs = 100,\n",
        "                        batch_size = 32,\n",
        "                        verbose = 0)\n",
        "new_model.save('./my_new_model')"
      ],
      "metadata": {
        "id": "9U5Qq059HGUr",
        "outputId": "326defd3-f69b-4604-db18-76067bd07fcc",
        "colab": {
          "base_uri": "https://localhost:8080/"
        }
      },
      "execution_count": 66,
      "outputs": [
        {
          "output_type": "stream",
          "name": "stderr",
          "text": [
            "WARNING:absl:Found untraced functions such as _update_step_xla while saving (showing 1 of 1). These functions will not be directly callable after loading.\n"
          ]
        }
      ]
    },
    {
      "cell_type": "markdown",
      "source": [
        "Observe your Keras model,s performance after training:"
      ],
      "metadata": {
        "id": "g4Hx4mNbJTfM"
      }
    },
    {
      "cell_type": "code",
      "source": [
        "plt.plot(history.history['loss'])\n",
        "plt.xlabel('Epoch')\n",
        "plt.ylim([0, max(plt.ylim())])\n",
        "plt.ylabel('Loss [Mean Squared Error]')\n",
        "plt.title('Keras training progress');"
      ],
      "metadata": {
        "id": "2XOhSylaJNnD",
        "outputId": "cce3e347-09ec-4ed9-e5ad-e26a88a0aabc",
        "colab": {
          "base_uri": "https://localhost:8080/",
          "height": 564
        }
      },
      "execution_count": 67,
      "outputs": [
        {
          "output_type": "display_data",
          "data": {
            "text/plain": [
              "<Figure size 900x600 with 1 Axes>"
            ],
            "image/png": "[encoded data removed]"
          },
          "metadata": {}
        }
      ]
    },
    {
      "cell_type": "code",
      "source": [
        "plot_preds(x, y, f, new_model, 'After Training: Keras')"
      ],
      "metadata": {
        "id": "Kkey-ez6Ki27",
        "outputId": "6eee448e-96f0-4062-e252-3364eb1c6bd7",
        "colab": {
          "base_uri": "https://localhost:8080/",
          "height": 545
        }
      },
      "execution_count": 68,
      "outputs": [
        {
          "output_type": "display_data",
          "data": {
            "text/plain": [
              "<Figure size 900x600 with 1 Axes>"
            ],
            "image/png": "[encoded data removed]"
          },
          "metadata": {}
        }
      ]
    },
    {
      "cell_type": "code",
      "source": [],
      "metadata": {
        "id": "1fmUB4KSLAsV"
      },
      "execution_count": null,
      "outputs": []
    },
    {
      "cell_type": "code",
      "source": [],
      "metadata": {
        "id": "KfIXJoXAL2Ia"
      },
      "execution_count": null,
      "outputs": []
    },
    {
      "cell_type": "code",
      "source": [],
      "metadata": {
        "id": "v0mOJLDSL2Wk"
      },
      "execution_count": null,
      "outputs": []
    },
    {
      "cell_type": "markdown",
      "source": [
        "## Introduction to Tensor"
      ],
      "metadata": {
        "id": "dbgqiEDDL-Gq"
      }
    },
    {
      "cell_type": "code",
      "source": [],
      "metadata": {
        "id": "KuzqoHG6MAP0"
      },
      "execution_count": null,
      "outputs": []
    }
  ]
}