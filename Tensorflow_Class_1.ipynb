{
  "nbformat": 4,
  "nbformat_minor": 0,
  "metadata": {
    "colab": {
      "provenance": [],
      "authorship_tag": "ABX9TyNL6y/odMnGu2O8qDjgKaZ2",
      "include_colab_link": true
    },
    "kernelspec": {
      "name": "python3",
      "display_name": "Python 3"
    },
    "language_info": {
      "name": "python"
    }
  },
  "cells": [
    {
      "cell_type": "markdown",
      "metadata": {
        "id": "view-in-github",
        "colab_type": "text"
      },
      "source": [
        "<a href=\"https://colab.research.google.com/github/THIRU9573/Tensorflow-Notes/blob/main/Tensorflow_Class_1.ipynb\" target=\"_parent\"><img src=\"https://colab.research.google.com/assets/colab-badge.svg\" alt=\"Open In Colab\"/></a>"
      ]
    },
    {
      "cell_type": "code",
      "execution_count": 1,
      "metadata": {
        "id": "AcmaQr5epzVr"
      },
      "outputs": [],
      "source": [
        "import tensorflow as tf"
      ]
    },
    {
      "cell_type": "code",
      "source": [
        "from google.colab import files\n",
        "from IPython.display import Image"
      ],
      "metadata": {
        "id": "cuotgzByRCQ9"
      },
      "execution_count": 48,
      "outputs": []
    },
    {
      "cell_type": "code",
      "source": [
        "uploaded = files.upload()"
      ],
      "metadata": {
        "id": "zekeJzX7OMjV",
        "outputId": "0660b73a-aed8-468d-d7d1-630d2e972f4e",
        "colab": {
          "base_uri": "https://localhost:8080/",
          "height": 74
        }
      },
      "execution_count": 57,
      "outputs": [
        {
          "output_type": "display_data",
          "data": {
            "text/plain": [
              "<IPython.core.display.HTML object>"
            ],
            "text/html": [
              "\n",
              "     <input type=\"file\" id=\"files-29356e4e-11a9-4830-b955-aa586f0d9390\" name=\"files[]\" multiple disabled\n",
              "        style=\"border:none\" />\n",
              "     <output id=\"result-29356e4e-11a9-4830-b955-aa586f0d9390\">\n",
              "      Upload widget is only available when the cell has been executed in the\n",
              "      current browser session. Please rerun this cell to enable.\n",
              "      </output>\n",
              "      <script>// Copyright 2017 Google LLC\n",
              "//\n",
              "// Licensed under the Apache License, Version 2.0 (the \"License\");\n",
              "// you may not use this file except in compliance with the License.\n",
              "// You may obtain a copy of the License at\n",
              "//\n",
              "//      http://www.apache.org/licenses/LICENSE-2.0\n",
              "//\n",
              "// Unless required by applicable law or agreed to in writing, software\n",
              "// distributed under the License is distributed on an \"AS IS\" BASIS,\n",
              "// WITHOUT WARRANTIES OR CONDITIONS OF ANY KIND, either express or implied.\n",
              "// See the License for the specific language governing permissions and\n",
              "// limitations under the License.\n",
              "\n",
              "/**\n",
              " * @fileoverview Helpers for google.colab Python module.\n",
              " */\n",
              "(function(scope) {\n",
              "function span(text, styleAttributes = {}) {\n",
              "  const element = document.createElement('span');\n",
              "  element.textContent = text;\n",
              "  for (const key of Object.keys(styleAttributes)) {\n",
              "    element.style[key] = styleAttributes[key];\n",
              "  }\n",
              "  return element;\n",
              "}\n",
              "\n",
              "// Max number of bytes which will be uploaded at a time.\n",
              "const MAX_PAYLOAD_SIZE = 100 * 1024;\n",
              "\n",
              "function _uploadFiles(inputId, outputId) {\n",
              "  const steps = uploadFilesStep(inputId, outputId);\n",
              "  const outputElement = document.getElementById(outputId);\n",
              "  // Cache steps on the outputElement to make it available for the next call\n",
              "  // to uploadFilesContinue from Python.\n",
              "  outputElement.steps = steps;\n",
              "\n",
              "  return _uploadFilesContinue(outputId);\n",
              "}\n",
              "\n",
              "// This is roughly an async generator (not supported in the browser yet),\n",
              "// where there are multiple asynchronous steps and the Python side is going\n",
              "// to poll for completion of each step.\n",
              "// This uses a Promise to block the python side on completion of each step,\n",
              "// then passes the result of the previous step as the input to the next step.\n",
              "function _uploadFilesContinue(outputId) {\n",
              "  const outputElement = document.getElementById(outputId);\n",
              "  const steps = outputElement.steps;\n",
              "\n",
              "  const next = steps.next(outputElement.lastPromiseValue);\n",
              "  return Promise.resolve(next.value.promise).then((value) => {\n",
              "    // Cache the last promise value to make it available to the next\n",
              "    // step of the generator.\n",
              "    outputElement.lastPromiseValue = value;\n",
              "    return next.value.response;\n",
              "  });\n",
              "}\n",
              "\n",
              "/**\n",
              " * Generator function which is called between each async step of the upload\n",
              " * process.\n",
              " * @param {string} inputId Element ID of the input file picker element.\n",
              " * @param {string} outputId Element ID of the output display.\n",
              " * @return {!Iterable<!Object>} Iterable of next steps.\n",
              " */\n",
              "function* uploadFilesStep(inputId, outputId) {\n",
              "  const inputElement = document.getElementById(inputId);\n",
              "  inputElement.disabled = false;\n",
              "\n",
              "  const outputElement = document.getElementById(outputId);\n",
              "  outputElement.innerHTML = '';\n",
              "\n",
              "  const pickedPromise = new Promise((resolve) => {\n",
              "    inputElement.addEventListener('change', (e) => {\n",
              "      resolve(e.target.files);\n",
              "    });\n",
              "  });\n",
              "\n",
              "  const cancel = document.createElement('button');\n",
              "  inputElement.parentElement.appendChild(cancel);\n",
              "  cancel.textContent = 'Cancel upload';\n",
              "  const cancelPromise = new Promise((resolve) => {\n",
              "    cancel.onclick = () => {\n",
              "      resolve(null);\n",
              "    };\n",
              "  });\n",
              "\n",
              "  // Wait for the user to pick the files.\n",
              "  const files = yield {\n",
              "    promise: Promise.race([pickedPromise, cancelPromise]),\n",
              "    response: {\n",
              "      action: 'starting',\n",
              "    }\n",
              "  };\n",
              "\n",
              "  cancel.remove();\n",
              "\n",
              "  // Disable the input element since further picks are not allowed.\n",
              "  inputElement.disabled = true;\n",
              "\n",
              "  if (!files) {\n",
              "    return {\n",
              "      response: {\n",
              "        action: 'complete',\n",
              "      }\n",
              "    };\n",
              "  }\n",
              "\n",
              "  for (const file of files) {\n",
              "    const li = document.createElement('li');\n",
              "    li.append(span(file.name, {fontWeight: 'bold'}));\n",
              "    li.append(span(\n",
              "        `(${file.type || 'n/a'}) - ${file.size} bytes, ` +\n",
              "        `last modified: ${\n",
              "            file.lastModifiedDate ? file.lastModifiedDate.toLocaleDateString() :\n",
              "                                    'n/a'} - `));\n",
              "    const percent = span('0% done');\n",
              "    li.appendChild(percent);\n",
              "\n",
              "    outputElement.appendChild(li);\n",
              "\n",
              "    const fileDataPromise = new Promise((resolve) => {\n",
              "      const reader = new FileReader();\n",
              "      reader.onload = (e) => {\n",
              "        resolve(e.target.result);\n",
              "      };\n",
              "      reader.readAsArrayBuffer(file);\n",
              "    });\n",
              "    // Wait for the data to be ready.\n",
              "    let fileData = yield {\n",
              "      promise: fileDataPromise,\n",
              "      response: {\n",
              "        action: 'continue',\n",
              "      }\n",
              "    };\n",
              "\n",
              "    // Use a chunked sending to avoid message size limits. See b/62115660.\n",
              "    let position = 0;\n",
              "    do {\n",
              "      const length = Math.min(fileData.byteLength - position, MAX_PAYLOAD_SIZE);\n",
              "      const chunk = new Uint8Array(fileData, position, length);\n",
              "      position += length;\n",
              "\n",
              "      const base64 = btoa(String.fromCharCode.apply(null, chunk));\n",
              "      yield {\n",
              "        response: {\n",
              "          action: 'append',\n",
              "          file: file.name,\n",
              "          data: base64,\n",
              "        },\n",
              "      };\n",
              "\n",
              "      let percentDone = fileData.byteLength === 0 ?\n",
              "          100 :\n",
              "          Math.round((position / fileData.byteLength) * 100);\n",
              "      percent.textContent = `${percentDone}% done`;\n",
              "\n",
              "    } while (position < fileData.byteLength);\n",
              "  }\n",
              "\n",
              "  // All done.\n",
              "  yield {\n",
              "    response: {\n",
              "      action: 'complete',\n",
              "    }\n",
              "  };\n",
              "}\n",
              "\n",
              "scope.google = scope.google || {};\n",
              "scope.google.colab = scope.google.colab || {};\n",
              "scope.google.colab._files = {\n",
              "  _uploadFiles,\n",
              "  _uploadFilesContinue,\n",
              "};\n",
              "})(self);\n",
              "</script> "
            ]
          },
          "metadata": {}
        },
        {
          "output_type": "stream",
          "name": "stdout",
          "text": [
            "Saving tf10.jpeg to tf10.jpeg\n"
          ]
        }
      ]
    },
    {
      "cell_type": "markdown",
      "source": [
        "TensorFolw is an end to end platform for machine learning. it support following : 1.Multidimentional array based numeric computation 2.GPU and distributed processing 3.Automatic differention 4.Model construction,training and export and more"
      ],
      "metadata": {
        "id": "bjN33EmYaoT8"
      }
    },
    {
      "cell_type": "code",
      "source": [],
      "metadata": {
        "id": "kK_UeTbxaNhI"
      },
      "execution_count": null,
      "outputs": []
    },
    {
      "cell_type": "markdown",
      "source": [
        "## ***Tensors***"
      ],
      "metadata": {
        "id": "0omYwXz5a3TY"
      }
    },
    {
      "cell_type": "markdown",
      "source": [
        "Tensorflow operate on multidimential array or tensors represented as tf.tTensor objects. Here is two dimentional tensor: "
      ],
      "metadata": {
        "id": "ND2oqWwybJjL"
      }
    },
    {
      "cell_type": "code",
      "source": [
        "import tensorflow as tf\n",
        "x = tf.constant([[1.,2.,3.],\n",
        "                  [4.,5.,6.]]) \n",
        "print(x)\n",
        "print(x.shape)\n",
        "print(x.dtype)"
      ],
      "metadata": {
        "colab": {
          "base_uri": "https://localhost:8080/"
        },
        "id": "FGTL5bY5emTB",
        "outputId": "e45775b8-da6e-4496-fd57-4991634e0854"
      },
      "execution_count": null,
      "outputs": [
        {
          "output_type": "stream",
          "name": "stdout",
          "text": [
            "tf.Tensor(\n",
            "[[1. 2. 3.]\n",
            " [4. 5. 6.]], shape=(2, 3), dtype=float32)\n",
            "(2, 3)\n",
            "<dtype: 'float32'>\n"
          ]
        }
      ]
    },
    {
      "cell_type": "code",
      "source": [],
      "metadata": {
        "id": "nMdZOPJefB5v"
      },
      "execution_count": null,
      "outputs": []
    },
    {
      "cell_type": "markdown",
      "source": [
        "The most important attributes of a tf.Tensor are its shape and dtype:\n",
        "\n",
        "\n",
        "1.   Tensor.shape:tells you the size of the tensor along each of its axes\n",
        "2.  Tensor.dtype:tells you the type of all the elements in the tensor.\n",
        "Tensorflow implement standard mathematical operations on tensors as well as many operations specialized for machine learning.\n",
        "Foe Example:\n",
        "\n"
      ],
      "metadata": {
        "id": "MK-Q3qJffXXD"
      }
    },
    {
      "cell_type": "code",
      "source": [
        "x+x"
      ],
      "metadata": {
        "colab": {
          "base_uri": "https://localhost:8080/"
        },
        "id": "S7L3RdWahhxD",
        "outputId": "1a8440fc-8728-4fed-df0a-337b78910149"
      },
      "execution_count": null,
      "outputs": [
        {
          "output_type": "execute_result",
          "data": {
            "text/plain": [
              "<tf.Tensor: shape=(2, 3), dtype=float32, numpy=\n",
              "array([[ 2.,  4.,  6.],\n",
              "       [ 8., 10., 12.]], dtype=float32)>"
            ]
          },
          "metadata": {},
          "execution_count": 23
        }
      ]
    },
    {
      "cell_type": "code",
      "source": [
        "5*x"
      ],
      "metadata": {
        "colab": {
          "base_uri": "https://localhost:8080/"
        },
        "id": "-b-4HPjXhlNV",
        "outputId": "095fefd1-b437-448a-903b-f4c86953fc13"
      },
      "execution_count": null,
      "outputs": [
        {
          "output_type": "execute_result",
          "data": {
            "text/plain": [
              "<tf.Tensor: shape=(2, 3), dtype=float32, numpy=\n",
              "array([[ 5., 10., 15.],\n",
              "       [20., 25., 30.]], dtype=float32)>"
            ]
          },
          "metadata": {},
          "execution_count": 24
        }
      ]
    },
    {
      "cell_type": "code",
      "source": [
        "x @ tf.transpose(x)"
      ],
      "metadata": {
        "colab": {
          "base_uri": "https://localhost:8080/"
        },
        "id": "wOWU8OGykCyp",
        "outputId": "c6d0fae5-750d-4f8a-e547-a38b348d1a66"
      },
      "execution_count": null,
      "outputs": [
        {
          "output_type": "execute_result",
          "data": {
            "text/plain": [
              "<tf.Tensor: shape=(2, 2), dtype=float32, numpy=\n",
              "array([[14., 32.],\n",
              "       [32., 77.]], dtype=float32)>"
            ]
          },
          "metadata": {},
          "execution_count": 25
        }
      ]
    },
    {
      "cell_type": "markdown",
      "source": [
        "The @ symbol in this context is the matrix multiplication operator in TensorFlow. It is equivalent to calling tf.matmul()."
      ],
      "metadata": {
        "id": "tz2_ChgtlVEq"
      }
    },
    {
      "cell_type": "code",
      "source": [
        "\n",
        "Image(filename = \"tf2.jpeg\", width = 100,height = 100)"
      ],
      "metadata": {
        "id": "jT9bBPBvlXJf",
        "outputId": "5615d974-42cc-49ce-90d6-3426f6ed1a9b",
        "colab": {
          "base_uri": "https://localhost:8080/",
          "height": 117
        }
      },
      "execution_count": 60,
      "outputs": [
        {
          "output_type": "execute_result",
          "data": {
            "image/jpeg": "[encoded data removed]",
            "text/plain": [
              "<IPython.core.display.Image object>"
            ]
          },
          "metadata": {
            "image/jpeg": {
              "width": 100,
              "height": 100
            }
          },
          "execution_count": 60
        }
      ]
    },
    {
      "cell_type": "markdown",
      "source": [
        "## tf.concat(values,axis)"
      ],
      "metadata": {
        "id": "3qNI9mPWuU4j"
      }
    },
    {
      "cell_type": "markdown",
      "source": [
        "tf.concat() is a function in TensorFlow, which is used to concatenate tensors along a given axis. It takes a list of tensors as input and returns a new tensor, which is the result of concatenating all the input tensors along the specified axis.\n",
        "\n",
        "The syntax for using tf.concat() is as follows:"
      ],
      "metadata": {
        "id": "CSJMjeDfuP4f"
      }
    },
    {
      "cell_type": "markdown",
      "source": [],
      "metadata": {
        "id": "X6SqjV64lQWk"
      }
    },
    {
      "cell_type": "code",
      "source": [
        "tf.concat([x,x,x], axis = 0)"
      ],
      "metadata": {
        "colab": {
          "base_uri": "https://localhost:8080/"
        },
        "id": "7KljdxGhkLMA",
        "outputId": "977b8a7c-bf21-4000-9e4f-47c2ac5d3f2b"
      },
      "execution_count": null,
      "outputs": [
        {
          "output_type": "execute_result",
          "data": {
            "text/plain": [
              "<tf.Tensor: shape=(6, 3), dtype=float32, numpy=\n",
              "array([[1., 2., 3.],\n",
              "       [4., 5., 6.],\n",
              "       [1., 2., 3.],\n",
              "       [4., 5., 6.],\n",
              "       [1., 2., 3.],\n",
              "       [4., 5., 6.]], dtype=float32)>"
            ]
          },
          "metadata": {},
          "execution_count": 26
        }
      ]
    },
    {
      "cell_type": "code",
      "source": [
        "A = tf.constant([[1,2,3],[4,5,6]])\n",
        "B = tf.constant([[7,8,9,10],[11,12,13,14]])\n",
        "\n",
        "C = tf.concat([A,B], axis = 1)\n",
        "print(C)"
      ],
      "metadata": {
        "colab": {
          "base_uri": "https://localhost:8080/"
        },
        "id": "pj5dnSZjtaF4",
        "outputId": "e01aab17-6d04-48a6-f2e4-fc35df72e0fc"
      },
      "execution_count": null,
      "outputs": [
        {
          "output_type": "stream",
          "name": "stdout",
          "text": [
            "tf.Tensor(\n",
            "[[ 1  2  3  7  8  9 10]\n",
            " [ 4  5  6 11 12 13 14]], shape=(2, 7), dtype=int32)\n"
          ]
        }
      ]
    },
    {
      "cell_type": "code",
      "source": [
        "A = tf.constant([[1,2,3,4],[4,5,6,7]])\n",
        "B = tf.constant([[7,8,9,10],[11,12,13,14]])\n",
        "\n",
        "C = tf.concat([A,B], axis = 0)\n",
        "print(C)"
      ],
      "metadata": {
        "colab": {
          "base_uri": "https://localhost:8080/"
        },
        "id": "UKVCcczHvXoQ",
        "outputId": "f09b24c8-834f-4ec8-d92e-44e23d7ed53b"
      },
      "execution_count": null,
      "outputs": [
        {
          "output_type": "stream",
          "name": "stdout",
          "text": [
            "tf.Tensor(\n",
            "[[ 1  2  3  4]\n",
            " [ 4  5  6  7]\n",
            " [ 7  8  9 10]\n",
            " [11 12 13 14]], shape=(4, 4), dtype=int32)\n"
          ]
        }
      ]
    },
    {
      "cell_type": "markdown",
      "source": [
        "# tf.nn.softmax()"
      ],
      "metadata": {
        "id": "iowLSPYVwAzX"
      }
    },
    {
      "cell_type": "markdown",
      "source": [
        "tf.nn.softmax() is a function in TensorFlow that computes the softmax activation function for a given input tensor. The softmax function is a commonly used activation function in neural networks, especially for multi-class classification problems.\n",
        "\n",
        "The softmax function takes a vector of real-valued scores as input and normalizes them into a probability distribution over the classes. The output of the softmax function is a vector of probabilities, where each element represents the probability of the input belonging to a particular class.\n",
        "\n",
        "The syntax for using tf.nn.softmax() is as follows:"
      ],
      "metadata": {
        "id": "jAKCSQ9XybYK"
      }
    },
    {
      "cell_type": "code",
      "source": [
        "#tf.nn.softmax(logits, axis=None, name=None)"
      ],
      "metadata": {
        "id": "gdOems1tyfUn"
      },
      "execution_count": null,
      "outputs": []
    },
    {
      "cell_type": "code",
      "source": [
        "tf.nn.softmax(x, axis = -1)"
      ],
      "metadata": {
        "colab": {
          "base_uri": "https://localhost:8080/"
        },
        "id": "xedlTLlRvtRR",
        "outputId": "361b16e6-62c9-40dd-f6d5-97f7a31bc858"
      },
      "execution_count": null,
      "outputs": [
        {
          "output_type": "execute_result",
          "data": {
            "text/plain": [
              "<tf.Tensor: shape=(2, 3), dtype=float32, numpy=\n",
              "array([[0.09003057, 0.24472848, 0.66524094],\n",
              "       [0.09003057, 0.24472848, 0.66524094]], dtype=float32)>"
            ]
          },
          "metadata": {},
          "execution_count": 29
        }
      ]
    },
    {
      "cell_type": "markdown",
      "source": [
        "## tf.reduce_sum():"
      ],
      "metadata": {
        "id": "Ly-1HArszkIz"
      }
    },
    {
      "cell_type": "markdown",
      "source": [
        "tf.reduce_sum() is a function in TensorFlow that computes the sum of all the elements in a tensor, or along a specified axis of a tensor. It is a useful operation in various machine learning applications, such as computing the loss function or computing accuracy.\n",
        "\n",
        "The syntax for using tf.reduce_sum() is as follows:"
      ],
      "metadata": {
        "id": "Cmkn4KrH0Q0N"
      }
    },
    {
      "cell_type": "code",
      "source": [
        "#tf.reduce_sum(input_tensor, axis=None, keepdims=False, name=None)\n"
      ],
      "metadata": {
        "id": "XPcguefU0Sf_"
      },
      "execution_count": null,
      "outputs": []
    },
    {
      "cell_type": "code",
      "source": [
        "tf.reduce_sum(x)"
      ],
      "metadata": {
        "colab": {
          "base_uri": "https://localhost:8080/"
        },
        "id": "V-4trnLs0V8o",
        "outputId": "0acb5e53-0b90-4c93-e3b1-74971f38a957"
      },
      "execution_count": null,
      "outputs": [
        {
          "output_type": "execute_result",
          "data": {
            "text/plain": [
              "<tf.Tensor: shape=(), dtype=float32, numpy=21.0>"
            ]
          },
          "metadata": {},
          "execution_count": 30
        }
      ]
    },
    {
      "cell_type": "code",
      "source": [
        "tf.reduce_sum(x,axis = 1)"
      ],
      "metadata": {
        "colab": {
          "base_uri": "https://localhost:8080/"
        },
        "id": "pZoZMqyy11iz",
        "outputId": "2929875b-188d-4d58-b3dd-f9bca61ecfb8"
      },
      "execution_count": null,
      "outputs": [
        {
          "output_type": "execute_result",
          "data": {
            "text/plain": [
              "<tf.Tensor: shape=(2,), dtype=float32, numpy=array([ 6., 15.], dtype=float32)>"
            ]
          },
          "metadata": {},
          "execution_count": 31
        }
      ]
    },
    {
      "cell_type": "code",
      "source": [
        "tf.reduce_sum(x,axis = 0)"
      ],
      "metadata": {
        "colab": {
          "base_uri": "https://localhost:8080/"
        },
        "id": "_klvQl0817mn",
        "outputId": "4b638a3b-25e1-4d82-fab5-f9e26a3e1286"
      },
      "execution_count": null,
      "outputs": [
        {
          "output_type": "execute_result",
          "data": {
            "text/plain": [
              "<tf.Tensor: shape=(3,), dtype=float32, numpy=array([5., 7., 9.], dtype=float32)>"
            ]
          },
          "metadata": {},
          "execution_count": 32
        }
      ]
    },
    {
      "cell_type": "code",
      "source": [
        "y = tf.constant([[[1,2,3,],\n",
        "                  [3,4,5],\n",
        "                  [5,6,7]]])\n",
        "a = tf.reduce_sum(y)\n",
        "b = tf.reduce_sum(y,axis = 0)\n",
        "c = tf.reduce_sum(y, axis = 1)\n",
        "print(a)\n",
        "print(b)\n",
        "print(c)"
      ],
      "metadata": {
        "colab": {
          "base_uri": "https://localhost:8080/"
        },
        "id": "X-lq3w-s3Q_H",
        "outputId": "37a528c8-a3a2-4562-a3a7-5d28f55d18c5"
      },
      "execution_count": null,
      "outputs": [
        {
          "output_type": "stream",
          "name": "stdout",
          "text": [
            "tf.Tensor(36, shape=(), dtype=int32)\n",
            "tf.Tensor(\n",
            "[[1 2 3]\n",
            " [3 4 5]\n",
            " [5 6 7]], shape=(3, 3), dtype=int32)\n",
            "tf.Tensor([[ 9 12 15]], shape=(1, 3), dtype=int32)\n"
          ]
        }
      ]
    },
    {
      "cell_type": "markdown",
      "source": [
        "## tf.convet_to_tensor():"
      ],
      "metadata": {
        "id": "XIzIhPzJ5UC3"
      }
    },
    {
      "cell_type": "markdown",
      "source": [
        "tf.convert_to_tensor() is a function in TensorFlow that converts a given value to a tensor. This function is useful when you want to ensure that a given value is represented as a tensor in TensorFlow, regardless of its original type or shape.\n",
        "\n",
        "The syntax for using tf.convert_to_tensor() is as follows:"
      ],
      "metadata": {
        "id": "4DsQWvKY566d"
      }
    },
    {
      "cell_type": "code",
      "source": [
        "#tf.convert_to_tensor(value, dtype=None, dtype_hint=None, name=None)\n"
      ],
      "metadata": {
        "id": "FV-6DJtz4QUX"
      },
      "execution_count": null,
      "outputs": []
    },
    {
      "cell_type": "code",
      "source": [
        "tf.convert_to_tensor([1,2,3])"
      ],
      "metadata": {
        "colab": {
          "base_uri": "https://localhost:8080/"
        },
        "id": "8_9GmjAm6COI",
        "outputId": "c22ec53a-f17b-4cbe-dbde-77a54180d5bc"
      },
      "execution_count": null,
      "outputs": [
        {
          "output_type": "execute_result",
          "data": {
            "text/plain": [
              "<tf.Tensor: shape=(3,), dtype=int32, numpy=array([1, 2, 3], dtype=int32)>"
            ]
          },
          "metadata": {},
          "execution_count": 34
        }
      ]
    },
    {
      "cell_type": "code",
      "source": [
        "z = [1,2,3,4,5]\n",
        "u = tf.convert_to_tensor(z)\n",
        "print(u)"
      ],
      "metadata": {
        "colab": {
          "base_uri": "https://localhost:8080/"
        },
        "id": "eDVq4TEz6doW",
        "outputId": "7b453c57-9d12-43b6-995b-32f93cdab3f1"
      },
      "execution_count": null,
      "outputs": [
        {
          "output_type": "stream",
          "name": "stdout",
          "text": [
            "tf.Tensor([1 2 3 4 5], shape=(5,), dtype=int32)\n"
          ]
        }
      ]
    },
    {
      "cell_type": "code",
      "source": [
        "x = 3.14\n",
        "v = tf.convert_to_tensor(x, dtype = tf.float32)\n",
        "print(v)"
      ],
      "metadata": {
        "colab": {
          "base_uri": "https://localhost:8080/"
        },
        "id": "6uTSvMhT662X",
        "outputId": "63f82d91-cd32-47f2-9d96-940fa76b2cf3"
      },
      "execution_count": null,
      "outputs": [
        {
          "output_type": "stream",
          "name": "stdout",
          "text": [
            "tf.Tensor(3.14, shape=(), dtype=float32)\n"
          ]
        }
      ]
    },
    {
      "cell_type": "code",
      "source": [
        "tf.reduce_sum(u)"
      ],
      "metadata": {
        "colab": {
          "base_uri": "https://localhost:8080/"
        },
        "id": "-Xnok-v97XY4",
        "outputId": "c7dcce7a-3976-4b05-a87d-fd0453fc56f2"
      },
      "execution_count": null,
      "outputs": [
        {
          "output_type": "execute_result",
          "data": {
            "text/plain": [
              "<tf.Tensor: shape=(), dtype=int32, numpy=15>"
            ]
          },
          "metadata": {},
          "execution_count": 37
        }
      ]
    },
    {
      "cell_type": "code",
      "source": [
        "tf.reduce_sum([1,3,4,5,7,9])"
      ],
      "metadata": {
        "colab": {
          "base_uri": "https://localhost:8080/"
        },
        "id": "WvckDz-l7nhx",
        "outputId": "7d4537a8-5d87-409b-819c-d618e9a4b8c1"
      },
      "execution_count": null,
      "outputs": [
        {
          "output_type": "execute_result",
          "data": {
            "text/plain": [
              "<tf.Tensor: shape=(), dtype=int32, numpy=29>"
            ]
          },
          "metadata": {},
          "execution_count": 38
        }
      ]
    },
    {
      "cell_type": "code",
      "source": [
        "if tf.config.list_physical_devices('GPU'):\n",
        "  print(\"TensorFlow **IS** using the GPU\")\n",
        "else:\n",
        "  print(\"TensorFlow **IS NOT** using the GPU\")"
      ],
      "metadata": {
        "colab": {
          "base_uri": "https://localhost:8080/"
        },
        "id": "frtDwEwH7-ZG",
        "outputId": "fe163720-727d-49ab-cd05-4bb6fb30ab6c"
      },
      "execution_count": null,
      "outputs": [
        {
          "output_type": "stream",
          "name": "stdout",
          "text": [
            "TensorFlow **IS NOT** using the GPU\n"
          ]
        }
      ]
    },
    {
      "cell_type": "markdown",
      "source": [
        "## Variables:"
      ],
      "metadata": {
        "id": "AGrPyg5k8b__"
      }
    },
    {
      "cell_type": "markdown",
      "source": [
        "Normal tf.Tensor objects are immutable. To store model weights (or other mutable state) in TensorFlow use a tf.Variable."
      ],
      "metadata": {
        "id": "IDAqepAz8svR"
      }
    },
    {
      "cell_type": "code",
      "source": [
        "var = tf.Variable([0.0, 0.0,0.0])\n",
        "var.assign([1,2,3])"
      ],
      "metadata": {
        "colab": {
          "base_uri": "https://localhost:8080/"
        },
        "id": "PeNSQYK_8VDP",
        "outputId": "3c9b462e-1fed-499a-d912-478ed9144254"
      },
      "execution_count": null,
      "outputs": [
        {
          "output_type": "execute_result",
          "data": {
            "text/plain": [
              "<tf.Variable 'UnreadVariable' shape=(3,) dtype=float32, numpy=array([1., 2., 3.], dtype=float32)>"
            ]
          },
          "metadata": {},
          "execution_count": 40
        }
      ]
    },
    {
      "cell_type": "code",
      "source": [
        "var.assign_add([1,1,1])"
      ],
      "metadata": {
        "colab": {
          "base_uri": "https://localhost:8080/"
        },
        "id": "SIV3cP5C9DPT",
        "outputId": "8bc292cb-2716-4084-f092-1e2ded0b7ecc"
      },
      "execution_count": null,
      "outputs": [
        {
          "output_type": "execute_result",
          "data": {
            "text/plain": [
              "<tf.Variable 'UnreadVariable' shape=(3,) dtype=float32, numpy=array([2., 3., 4.], dtype=float32)>"
            ]
          },
          "metadata": {},
          "execution_count": 41
        }
      ]
    },
    {
      "cell_type": "code",
      "source": [
        "var.assign_sub([1,2,3])"
      ],
      "metadata": {
        "colab": {
          "base_uri": "https://localhost:8080/"
        },
        "id": "vGBv_h499S1V",
        "outputId": "063b4804-9c93-40cd-d9b1-b3238412ff99"
      },
      "execution_count": null,
      "outputs": [
        {
          "output_type": "execute_result",
          "data": {
            "text/plain": [
              "<tf.Variable 'UnreadVariable' shape=(3,) dtype=float32, numpy=array([1., 1., 1.], dtype=float32)>"
            ]
          },
          "metadata": {},
          "execution_count": 42
        }
      ]
    },
    {
      "cell_type": "code",
      "source": [],
      "metadata": {
        "id": "Lgtp6t9N92gN"
      },
      "execution_count": null,
      "outputs": []
    },
    {
      "cell_type": "code",
      "source": [],
      "metadata": {
        "id": "049gbngG-Ij6"
      },
      "execution_count": null,
      "outputs": []
    },
    {
      "cell_type": "code",
      "source": [],
      "metadata": {
        "id": "n-GjXC52-JO2"
      },
      "execution_count": null,
      "outputs": []
    },
    {
      "cell_type": "markdown",
      "source": [
        "## Automatic Differentiation:"
      ],
      "metadata": {
        "id": "_wwXj-Sb-Js4"
      }
    },
    {
      "cell_type": "markdown",
      "source": [
        "To enable this, TensorFlow implements automatic differentiation (autodiff), which uses calculus to compute gradients. Typically you'll use this to calculate the gradient of a model's error or loss with respect to its weights."
      ],
      "metadata": {
        "id": "FnWBYU9f-uf_"
      }
    },
    {
      "cell_type": "code",
      "source": [
        "x = tf.Variable(1.0)\n",
        "\n",
        "def f(x):\n",
        "  y = x**2+2*x - 5\n",
        "  return y"
      ],
      "metadata": {
        "id": "jktMUktD-X7b"
      },
      "execution_count": null,
      "outputs": []
    },
    {
      "cell_type": "code",
      "source": [
        "f(x)"
      ],
      "metadata": {
        "colab": {
          "base_uri": "https://localhost:8080/"
        },
        "id": "GLkB1xhv_ZmK",
        "outputId": "64230d82-285e-4a04-8021-5e6967c284c5"
      },
      "execution_count": null,
      "outputs": [
        {
          "output_type": "execute_result",
          "data": {
            "text/plain": [
              "<tf.Tensor: shape=(), dtype=float32, numpy=-2.0>"
            ]
          },
          "metadata": {},
          "execution_count": 44
        }
      ]
    },
    {
      "cell_type": "markdown",
      "source": [
        "At x = 1.0, y = f(x) = (1**2 + 2*1 - 5) = -2.\n",
        "\n",
        "The derivative of y is y' = f'(x) = (2*x + 2) = 4. TensorFlow can calculate this automatically:"
      ],
      "metadata": {
        "id": "NKylBmDu_xsn"
      }
    },
    {
      "cell_type": "code",
      "source": [
        "with tf.GradientTape() as tape:\n",
        "  y = f(x)\n",
        "g_x = tape.gradient(y,x)   #g(x) = dy/dx\n",
        "g_x"
      ],
      "metadata": {
        "colab": {
          "base_uri": "https://localhost:8080/"
        },
        "id": "E__dAt52_dcM",
        "outputId": "d406137f-5c45-4ce1-d30e-1cbd897b2dc9"
      },
      "execution_count": null,
      "outputs": [
        {
          "output_type": "execute_result",
          "data": {
            "text/plain": [
              "<tf.Tensor: shape=(), dtype=float32, numpy=4.0>"
            ]
          },
          "metadata": {},
          "execution_count": 45
        }
      ]
    },
    {
      "cell_type": "markdown",
      "source": [
        "## Graphs and tf.function"
      ],
      "metadata": {
        "id": "Rzi9JDyKMRNO"
      }
    },
    {
      "cell_type": "markdown",
      "source": [
        "While you can use Tensorflow interactivelylike  any Python library, TensorFlow also Privide tools for:\n",
        "\n",
        "\n",
        "1.   Performance Optimization:to speed uptraining and inference\n",
        "2.   Export:so you can save your model when its done training.\n",
        "\n",
        "These require that you use tf.function to seperate your pure-Tensorflow code from Python\n",
        "\n"
      ],
      "metadata": {
        "id": "Hm_ElWIPNPB3"
      }
    },
    {
      "cell_type": "code",
      "source": [
        "@tf.function\n",
        "def my_func(x):\n",
        "  print('Tracing. \\n')\n",
        "  return tf.reduce_sum(x)"
      ],
      "metadata": {
        "id": "IDYvwRdcAnH0"
      },
      "execution_count": null,
      "outputs": []
    },
    {
      "cell_type": "markdown",
      "source": [
        "The first time you run the tf.function, although its executes in Python, it captures  a completet, optimized graph reprenting the Tnsorflow computations done within the function."
      ],
      "metadata": {
        "id": "WdImgcxBP-F9"
      }
    },
    {
      "cell_type": "code",
      "source": [
        "x = tf.constant([1,2,3])\n",
        "my_func(x)"
      ],
      "metadata": {
        "id": "vLIjd4UEPTCh",
        "outputId": "5810cd53-e764-4f97-b7b9-6797076a145a",
        "colab": {
          "base_uri": "https://localhost:8080/"
        }
      },
      "execution_count": null,
      "outputs": [
        {
          "output_type": "stream",
          "name": "stdout",
          "text": [
            "Tracing. \n",
            "\n"
          ]
        },
        {
          "output_type": "execute_result",
          "data": {
            "text/plain": [
              "<tf.Tensor: shape=(), dtype=int32, numpy=6>"
            ]
          },
          "metadata": {},
          "execution_count": 47
        }
      ]
    },
    {
      "cell_type": "markdown",
      "source": [
        "On subsequent calls TensorFlow only executes the optimized graph, skipping any non-TensorFlow steps. Below, note that my_func doesn't print tracing since print is a Python function, not a TensorFlow function."
      ],
      "metadata": {
        "id": "kEuKmASdRT3i"
      }
    },
    {
      "cell_type": "code",
      "source": [
        "x = tf.constant([10,9,8])\n",
        "my_func(x)"
      ],
      "metadata": {
        "id": "joLngsyPQv7K",
        "outputId": "804726bf-44f1-41b8-e4a9-1784f8f985dd",
        "colab": {
          "base_uri": "https://localhost:8080/"
        }
      },
      "execution_count": null,
      "outputs": [
        {
          "output_type": "execute_result",
          "data": {
            "text/plain": [
              "<tf.Tensor: shape=(), dtype=int32, numpy=27>"
            ]
          },
          "metadata": {},
          "execution_count": 48
        }
      ]
    },
    {
      "cell_type": "markdown",
      "source": [
        " graph may not be reusable for inputs with a different signature (shape and dtype), so a new graph is generated instead:"
      ],
      "metadata": {
        "id": "dYYxHUPbR77k"
      }
    },
    {
      "cell_type": "code",
      "source": [
        "x = tf.constant([10.0,9.1,8.2], dtype = tf.float32)\n",
        "my_func(x)"
      ],
      "metadata": {
        "id": "UvR_0kp1Rb3N",
        "outputId": "c01f399b-5809-4e1b-bda4-144d2a8023f2",
        "colab": {
          "base_uri": "https://localhost:8080/"
        }
      },
      "execution_count": null,
      "outputs": [
        {
          "output_type": "stream",
          "name": "stdout",
          "text": [
            "Tracing. \n",
            "\n"
          ]
        },
        {
          "output_type": "execute_result",
          "data": {
            "text/plain": [
              "<tf.Tensor: shape=(), dtype=float32, numpy=27.3>"
            ]
          },
          "metadata": {},
          "execution_count": 49
        }
      ]
    },
    {
      "cell_type": "markdown",
      "source": [
        "These captured graphs provude two benefits:\n",
        "\n",
        "\n",
        "1.   in many cases they provide a significant  speedup in execution(through not this trival example).\n",
        "2.   You can export these graphs, using tf.saved_model, to run on other systems like a server or a mobile device, no Python installation required.\n",
        "\n"
      ],
      "metadata": {
        "id": "oZH8Q-ZBSb1-"
      }
    },
    {
      "cell_type": "markdown",
      "source": [
        "## Modules,layers, and models"
      ],
      "metadata": {
        "id": "hftnZI9YTXzO"
      }
    },
    {
      "cell_type": "markdown",
      "source": [
        "tf.Module is class for managing your tf.Variable objects and the tf.function objects thats operate on them. the tf.Module class is necessaryto supporttwo significants features:\n",
        "\n",
        "\n",
        "1.   You can save and restore the values of your variables using tf.train.Checkpoint this is useful duringtraining as it is quick to save and retore a model's state\n",
        "2.   You can import and export the tf.Variable values and the tf.function graphs using tf.saved_model. this allows yyou to run your model independently of the Python programe that created it.\n",
        "\n"
      ],
      "metadata": {
        "id": "vSHMVHPoTe-z"
      }
    },
    {
      "cell_type": "markdown",
      "source": [
        "Here is a Complete exporting a simple tf.Module object:"
      ],
      "metadata": {
        "id": "b-8mMJlPWef5"
      }
    },
    {
      "cell_type": "code",
      "source": [
        "class MyProject(tf.Module):\n",
        "  def __init__(self,value):\n",
        "    self.weight = tf.Variable(value)\n",
        "  \n",
        "  @tf.function\n",
        "  def multiply(self, x):\n",
        "    return x*self.weight\n",
        "\n",
        "mod = MyProject(3)\n",
        "mod.multiply(tf.constant([1,2,3]))\n",
        "\n"
      ],
      "metadata": {
        "id": "RMfA75lVVVQv",
        "outputId": "8d7edcfb-e445-4e04-c1f7-42a8d2810596",
        "colab": {
          "base_uri": "https://localhost:8080/"
        }
      },
      "execution_count": null,
      "outputs": [
        {
          "output_type": "execute_result",
          "data": {
            "text/plain": [
              "<tf.Tensor: shape=(3,), dtype=int32, numpy=array([3, 6, 9], dtype=int32)>"
            ]
          },
          "metadata": {},
          "execution_count": 50
        }
      ]
    },
    {
      "cell_type": "markdown",
      "source": [
        "## Save the Module:"
      ],
      "metadata": {
        "id": "6fyCVbwy2FO8"
      }
    },
    {
      "cell_type": "code",
      "source": [
        "save_path = './saved'\n",
        "tf.saved_model.save(mod, save_path)"
      ],
      "metadata": {
        "id": "1zpQ11h-wNvM"
      },
      "execution_count": null,
      "outputs": []
    },
    {
      "cell_type": "markdown",
      "source": [
        "The resulting savedModel is independent of the code that created it.you can load a savedModel from Python others language bindings, or Tensorflow serving you can also convert it to run with tensorflow lite or Tensorflow JS"
      ],
      "metadata": {
        "id": "gmssgO8I2ZN-"
      }
    },
    {
      "cell_type": "code",
      "source": [
        "reloaded = tf.saved_model.load(save_path)\n",
        "reloaded.multiply(tf.constant([1,2,3]))"
      ],
      "metadata": {
        "id": "thXMRtku2Ck_",
        "outputId": "41e7309c-8941-4c0a-e51a-0150c0c95f55",
        "colab": {
          "base_uri": "https://localhost:8080/"
        }
      },
      "execution_count": null,
      "outputs": [
        {
          "output_type": "execute_result",
          "data": {
            "text/plain": [
              "<tf.Tensor: shape=(3,), dtype=int32, numpy=array([3, 6, 9], dtype=int32)>"
            ]
          },
          "metadata": {},
          "execution_count": 52
        }
      ]
    },
    {
      "cell_type": "markdown",
      "source": [
        "The tf.keras.layers.Layer and tf.keras.Model classes build on tf.Module providing additional functionality and convenience methods for building, training, and saving models. Some of these are demonstrated in the next section."
      ],
      "metadata": {
        "id": "4W9y139t4LJP"
      }
    },
    {
      "cell_type": "markdown",
      "source": [
        "## Training loops"
      ],
      "metadata": {
        "id": "xocNnPqa4R5n"
      }
    },
    {
      "cell_type": "code",
      "source": [
        "import matplotlib\n",
        "from matplotlib import pyplot as plt\n",
        "matplotlib.rcParams['figure.figsize'] = [9,6]"
      ],
      "metadata": {
        "id": "2S5Lk9r73-wa"
      },
      "execution_count": null,
      "outputs": []
    },
    {
      "cell_type": "code",
      "source": [
        "x = tf.linspace(-2,2,201)\n",
        "x = tf.cast(x, tf.float32)\n",
        "\n",
        "def f(x):\n",
        "  y = x**2 + 2*x - 5\n",
        "  return y\n",
        "\n",
        "y = f(x) + tf.random.normal(shape = [201])\n",
        "\n",
        "plt.plot(x.numpy(), y.numpy(), '.', label = 'Data')\n",
        "plt.plot(x,f(x), label = \"Ground truth\")\n",
        "plt.legend();\n"
      ],
      "metadata": {
        "id": "8zoiz4r7NP8G",
        "outputId": "ac25e388-6b48-4de4-dd33-465fadbe858a",
        "colab": {
          "base_uri": "https://localhost:8080/",
          "height": 524
        }
      },
      "execution_count": null,
      "outputs": [
        {
          "output_type": "display_data",
          "data": {
            "text/plain": [
              "<Figure size 900x600 with 1 Axes>"
            ],
            "image/png": "[encoded data removed]"
          },
          "metadata": {}
        }
      ]
    },
    {
      "cell_type": "markdown",
      "source": [
        "Create a quadratic model with randomly initialized weights and a bias:"
      ],
      "metadata": {
        "id": "iS-QENCnPRx0"
      }
    },
    {
      "cell_type": "code",
      "source": [
        "class Model(tf.Module):\n",
        "  def __init__(self):\n",
        "    #randomly generate weight and bias terms\n",
        "    rand_init = tf.random.uniform(shape = [3], minval = 0.,maxval = 5.,seed = 22)\n",
        "    #Initialized model parameters\n",
        "    self.w_q = tf.Variable(rand_init[0])\n",
        "    self.w_l = tf.Variable(rand_init[1])\n",
        "    self.b = tf.Variable(rand_init[2])\n",
        "\n",
        "  @tf.function\n",
        "  def __call__(self, x):\n",
        "    #Quafratic Model: quadratic_weight * x^2 +linear_weight * x +bias\n",
        "    return self.w_q * (x**2) + self.w_l * x + self.b"
      ],
      "metadata": {
        "id": "T1gbmj8OOk3i"
      },
      "execution_count": null,
      "outputs": []
    },
    {
      "cell_type": "markdown",
      "source": [
        "First,observe your model's performance before traninig:"
      ],
      "metadata": {
        "id": "EZVhQrgDSiui"
      }
    },
    {
      "cell_type": "code",
      "source": [
        "quad_model = Model()"
      ],
      "metadata": {
        "id": "PY9BLkJlQ7T0"
      },
      "execution_count": null,
      "outputs": []
    },
    {
      "cell_type": "code",
      "source": [
        "def plot_preds(x, y, f, model, title):\n",
        "  plt.figure()\n",
        "  plt.plot(x, y, '.', label = 'Data')\n",
        "  plt.plot(x, f(x), label = 'Ground truth')\n",
        "  plt.plot(x, model(x), label = 'Predictions')\n",
        "  plt.title(title)\n",
        "  plt.legend()"
      ],
      "metadata": {
        "id": "7CnUzHrxS1mE"
      },
      "execution_count": null,
      "outputs": []
    },
    {
      "cell_type": "code",
      "source": [
        "plot_preds(x, y, f, quad_model,  'Before training')"
      ],
      "metadata": {
        "id": "GmJBBYjITsMJ",
        "outputId": "151e20a4-aacc-4774-ff63-acd8f75ff1b4",
        "colab": {
          "base_uri": "https://localhost:8080/",
          "height": 545
        }
      },
      "execution_count": null,
      "outputs": [
        {
          "output_type": "display_data",
          "data": {
            "text/plain": [
              "<Figure size 900x600 with 1 Axes>"
            ],
            "image/png": "[encoded data removed]"
          },
          "metadata": {}
        }
      ]
    },
    {
      "cell_type": "markdown",
      "source": [
        "Now, define a loss for your model:\n",
        "\n",
        "Given that this model is intended to predict continuous values, the mean squared error (MSE) is a good choice for the loss function. Given a vector of predictions,Ŷ\n",
        ", and a vector of true targets, Y\n",
        ", the MSE is defined as the mean of the squared differences between the predicted values and the ground truth.\n"
      ],
      "metadata": {
        "id": "T_ax2TqVUa3m"
      }
    },
    {
      "cell_type": "code",
      "source": [
        "from IPython.display import Image\n",
        "Image(filename = )"
      ],
      "metadata": {
        "id": "yeEUXvfhT9Kd",
        "outputId": "8543b8b4-c481-401d-f96c-5c3daa2b4f01",
        "colab": {
          "base_uri": "https://localhost:8080/",
          "height": 132
        }
      },
      "execution_count": null,
      "outputs": [
        {
          "output_type": "error",
          "ename": "SyntaxError",
          "evalue": "ignored",
          "traceback": [
            "\u001b[0;36m  File \u001b[0;32m\"<ipython-input-59-72ce28481bd2>\"\u001b[0;36m, line \u001b[0;32m2\u001b[0m\n\u001b[0;31m    Image(filename = )\u001b[0m\n\u001b[0m                     ^\u001b[0m\n\u001b[0;31mSyntaxError\u001b[0m\u001b[0;31m:\u001b[0m invalid syntax\n"
          ]
        }
      ]
    },
    {
      "cell_type": "code",
      "source": [
        "def mse_loss(y_pred, y):\n",
        "  return tf.reduce_mean(tf.square(y_pred - y))"
      ],
      "metadata": {
        "id": "a8PBfqGS6iAF"
      },
      "execution_count": null,
      "outputs": []
    },
    {
      "cell_type": "markdown",
      "source": [
        "Write a basic training loop for the model. The loop will make use of the MSE loss function and its gradients with respect to the input in order to iteratively update the model's parameters. Using mini-batches for training provides both memory efficienciy and faster convergence. The tf.data.Dataset API has useful functions for batching and shuffling."
      ],
      "metadata": {
        "id": "5FRnRdCs8cEA"
      }
    },
    {
      "cell_type": "code",
      "source": [
        "batch_size = 32\n",
        "dataset = tf.data.Dataset.from_tensor_slices((x, y))\n",
        "dataset = dataset.shuffle(buffer_size = x.shape[0]).batch(batch_size)"
      ],
      "metadata": {
        "id": "bYv0ugKK7Egp"
      },
      "execution_count": null,
      "outputs": []
    },
    {
      "cell_type": "code",
      "source": [
        "# Set training parameters\n",
        "epochs = 100\n",
        "learning_rate = 0.01\n",
        "losses = []\n",
        "\n",
        "# Format training loop\n",
        "for epoch in range(epochs):\n",
        "  for x_batch, y_batch in dataset:\n",
        "    with tf.GradientTape() as tape:\n",
        "      batch_loss = mse_loss(quad_model(x_batch), y_batch)\n",
        "    # Update parameters with respect to the gradient calculations\n",
        "    grads = tape.gradient(batch_loss, quad_model.variables)\n",
        "    for g,v in zip(grads, quad_model.variables):\n",
        "        v.assign_sub(learning_rate*g)\n",
        "  # Keep track of model loss per epoch\n",
        "  loss = mse_loss(quad_model(x), y)\n",
        "  losses.append(loss)\n",
        "  if epoch % 10 == 0:\n",
        "    print(f'Mean squared error for step {epoch}: {loss.numpy():0.3f}')\n",
        "\n",
        "# Plot model results\n",
        "print(\"\\n\")\n",
        "plt.plot(range(epochs), losses)\n",
        "plt.xlabel(\"Epoch\")\n",
        "plt.ylabel(\"Mean Squared Error (MSE)\")\n",
        "plt.title('MSE loss vs training iterations');"
      ],
      "metadata": {
        "id": "jDpLfMQM9hmj",
        "outputId": "a508d19b-e3f1-45d0-baa7-59e84443dfae",
        "colab": {
          "base_uri": "https://localhost:8080/",
          "height": 772
        }
      },
      "execution_count": null,
      "outputs": [
        {
          "output_type": "stream",
          "name": "stdout",
          "text": [
            "Mean squared error for step 0: 70.807\n",
            "Mean squared error for step 10: 4.420\n",
            "Mean squared error for step 20: 2.230\n",
            "Mean squared error for step 30: 1.477\n",
            "Mean squared error for step 40: 1.202\n",
            "Mean squared error for step 50: 1.119\n",
            "Mean squared error for step 60: 1.086\n",
            "Mean squared error for step 70: 1.074\n",
            "Mean squared error for step 80: 1.068\n",
            "Mean squared error for step 90: 1.066\n",
            "\n",
            "\n"
          ]
        },
        {
          "output_type": "display_data",
          "data": {
            "text/plain": [
              "<Figure size 900x600 with 1 Axes>"
            ],
            "image/png": "[encoded data removed]"
          },
          "metadata": {}
        }
      ]
    },
    {
      "cell_type": "markdown",
      "source": [
        "Now Observe your model's performing after training:"
      ],
      "metadata": {
        "id": "YALFQudWDHZ0"
      }
    },
    {
      "cell_type": "code",
      "source": [
        "plot_preds(x, y, f, quad_model, 'After training')"
      ],
      "metadata": {
        "id": "GKR7bdbQA4sK",
        "outputId": "67638331-5b38-482c-9655-59c366e65b8d",
        "colab": {
          "base_uri": "https://localhost:8080/",
          "height": 545
        }
      },
      "execution_count": null,
      "outputs": [
        {
          "output_type": "display_data",
          "data": {
            "text/plain": [
              "<Figure size 900x600 with 1 Axes>"
            ],
            "image/png": "[encoded data removed]"
          },
          "metadata": {}
        }
      ]
    },
    {
      "cell_type": "markdown",
      "source": [
        "That's working, but remember that implementations of common training utilities are available in the tf.keras module. So, consider using those before writing your own. To start with, the Model.compile and Model.fit methods implement a training loop for you:\n",
        "\n",
        "Begin by creating a Sequential Model in Keras using tf.keras.Sequential. One of the simplest Keras layers is the dense layer, which can be instantiated with tf.keras.layers.Dense. The dense layer is able to learn multidimensional linear relationships of the form Y = WX + b\n",
        ". In order to learn a nonlinear equation of the form,w1x^2 + w2x + b \n",
        ", the dense layer's input should be a data matrix with x^2 \n",
        " and x \n",
        " as features. The lambda layer, tf.keras.layers.Lambda, can be used to perform this stacking transformation."
      ],
      "metadata": {
        "id": "w-PqYelIEDkN"
      }
    },
    {
      "cell_type": "code",
      "source": [
        "new_model = tf.keras.Sequential([\n",
        "    tf.keras.layers.Lambda(lambda x: tf.stack([x, x**2], axis = 1)),\n",
        "    tf.keras.layers.Dense(units =1, kernel_initializer = tf.random.normal)])"
      ],
      "metadata": {
        "id": "VbVGz4KCDtJ6"
      },
      "execution_count": null,
      "outputs": []
    },
    {
      "cell_type": "code",
      "source": [
        "new_model.compile(\n",
        "    loss =tf.keras.losses.MSE,\n",
        "    optimizer = tf.keras.optimizers.SGD(learning_rate = 0.01))\n",
        "history = new_model.fit(x, y,\n",
        "                        epochs = 100,\n",
        "                        batch_size = 32,\n",
        "                        verbose = 0)\n",
        "new_model.save('./my_new_model')"
      ],
      "metadata": {
        "id": "9U5Qq059HGUr",
        "outputId": "326defd3-f69b-4604-db18-76067bd07fcc",
        "colab": {
          "base_uri": "https://localhost:8080/"
        }
      },
      "execution_count": null,
      "outputs": [
        {
          "output_type": "stream",
          "name": "stderr",
          "text": [
            "WARNING:absl:Found untraced functions such as _update_step_xla while saving (showing 1 of 1). These functions will not be directly callable after loading.\n"
          ]
        }
      ]
    },
    {
      "cell_type": "markdown",
      "source": [
        "Observe your Keras model,s performance after training:"
      ],
      "metadata": {
        "id": "g4Hx4mNbJTfM"
      }
    },
    {
      "cell_type": "code",
      "source": [
        "plt.plot(history.history['loss'])\n",
        "plt.xlabel('Epoch')\n",
        "plt.ylim([0, max(plt.ylim())])\n",
        "plt.ylabel('Loss [Mean Squared Error]')\n",
        "plt.title('Keras training progress');"
      ],
      "metadata": {
        "id": "2XOhSylaJNnD",
        "outputId": "cce3e347-09ec-4ed9-e5ad-e26a88a0aabc",
        "colab": {
          "base_uri": "https://localhost:8080/",
          "height": 564
        }
      },
      "execution_count": null,
      "outputs": [
        {
          "output_type": "display_data",
          "data": {
            "text/plain": [
              "<Figure size 900x600 with 1 Axes>"
            ],
            "image/png": "[encoded data removed]"
          },
          "metadata": {}
        }
      ]
    },
    {
      "cell_type": "code",
      "source": [
        "plot_preds(x, y, f, new_model, 'After Training: Keras')"
      ],
      "metadata": {
        "id": "Kkey-ez6Ki27",
        "outputId": "6eee448e-96f0-4062-e252-3364eb1c6bd7",
        "colab": {
          "base_uri": "https://localhost:8080/",
          "height": 545
        }
      },
      "execution_count": null,
      "outputs": [
        {
          "output_type": "display_data",
          "data": {
            "text/plain": [
              "<Figure size 900x600 with 1 Axes>"
            ],
            "image/png": "[encoded data removed]"
          },
          "metadata": {}
        }
      ]
    },
    {
      "cell_type": "code",
      "source": [],
      "metadata": {
        "id": "1fmUB4KSLAsV"
      },
      "execution_count": null,
      "outputs": []
    },
    {
      "cell_type": "code",
      "source": [],
      "metadata": {
        "id": "KfIXJoXAL2Ia"
      },
      "execution_count": null,
      "outputs": []
    },
    {
      "cell_type": "code",
      "source": [],
      "metadata": {
        "id": "v0mOJLDSL2Wk"
      },
      "execution_count": null,
      "outputs": []
    },
    {
      "cell_type": "markdown",
      "source": [
        "## Introduction to Tensor"
      ],
      "metadata": {
        "id": "dbgqiEDDL-Gq"
      }
    },
    {
      "cell_type": "code",
      "source": [
        "import tensorflow as tf\n",
        "import numpy as np"
      ],
      "metadata": {
        "id": "KuzqoHG6MAP0"
      },
      "execution_count": 2,
      "outputs": []
    },
    {
      "cell_type": "markdown",
      "source": [
        "Tensors are multi-dimensional arrays with a uniform type (called a dtype). You can see all supported dtypes at tf.dtypes.DType.\n",
        "\n",
        "If you're familiar with NumPy, tensors are (kind of) like np.arrays.\n",
        "\n",
        "All tensors are immutable like Python numbers and strings: you can never update the contents of a tensor, only create a new one.\n"
      ],
      "metadata": {
        "id": "1l8yRpVu5FRb"
      }
    },
    {
      "cell_type": "markdown",
      "source": [
        "## Basics"
      ],
      "metadata": {
        "id": "yZVUOltF5Fex"
      }
    },
    {
      "cell_type": "markdown",
      "source": [
        "First, create some basic tensors.\n",
        "\n",
        "Here is a \"scalar\" or \"rank-0\" tensor . A scalar contains a single value, and no \"axes\"."
      ],
      "metadata": {
        "id": "QO3MIrwG5FrK"
      }
    },
    {
      "cell_type": "code",
      "source": [
        "# This will be an int32 tensor by default; see \"dtypes\" below.\n",
        "rank_0_tensor = tf.constant(4)\n",
        "print(rank_0_tensor)"
      ],
      "metadata": {
        "colab": {
          "base_uri": "https://localhost:8080/"
        },
        "id": "7wbbyA8U5EOe",
        "outputId": "a50340a2-f5bd-4a52-c62e-b9a5e98aab1f"
      },
      "execution_count": 3,
      "outputs": [
        {
          "output_type": "stream",
          "name": "stdout",
          "text": [
            "tf.Tensor(4, shape=(), dtype=int32)\n"
          ]
        }
      ]
    },
    {
      "cell_type": "markdown",
      "source": [
        "A vector or rank-1 tensor is a like a list of values. A vector has one axis:"
      ],
      "metadata": {
        "id": "eDem8Il_5xwv"
      }
    },
    {
      "cell_type": "code",
      "source": [
        "# Let's make this a float tensor.\n",
        "rank_1_tensor = tf.constant([2.0, 3.0, 4.0])\n",
        "print(rank_1_tensor)"
      ],
      "metadata": {
        "colab": {
          "base_uri": "https://localhost:8080/"
        },
        "id": "GMpkcBP65qqF",
        "outputId": "c67d608a-a32f-40ce-c13f-de1aa7e16c14"
      },
      "execution_count": 4,
      "outputs": [
        {
          "output_type": "stream",
          "name": "stdout",
          "text": [
            "tf.Tensor([2. 3. 4.], shape=(3,), dtype=float32)\n"
          ]
        }
      ]
    },
    {
      "cell_type": "markdown",
      "source": [
        "A \"matrix\" or \"rank-2\" tensor has two axes:\n",
        "\n"
      ],
      "metadata": {
        "id": "jm84OrpW7L0Z"
      }
    },
    {
      "cell_type": "code",
      "source": [
        "# If you want to be specific, you can set the dtype (see below) at creation time\n",
        "rank_2_tensor = tf.constant([[1, 2],\n",
        "                             [3, 4],\n",
        "                             [5, 6]], dtype=tf.float16)\n",
        "print(rank_2_tensor)\n",
        "\n"
      ],
      "metadata": {
        "colab": {
          "base_uri": "https://localhost:8080/"
        },
        "id": "t9ZO23bw7Ji5",
        "outputId": "8687ea3b-9c8f-4795-8555-e3c935a91571"
      },
      "execution_count": 5,
      "outputs": [
        {
          "output_type": "stream",
          "name": "stdout",
          "text": [
            "tf.Tensor(\n",
            "[[1. 2.]\n",
            " [3. 4.]\n",
            " [5. 6.]], shape=(3, 2), dtype=float16)\n"
          ]
        }
      ]
    },
    {
      "cell_type": "code",
      "source": [
        "Image(\"tf3.jpeg\", width = 400)"
      ],
      "metadata": {
        "id": "q3IhsafqVAH_",
        "outputId": "2df6cabb-739f-4e64-810d-1c63a6e92587",
        "colab": {
          "base_uri": "https://localhost:8080/",
          "height": 182
        }
      },
      "execution_count": 63,
      "outputs": [
        {
          "output_type": "execute_result",
          "data": {
            "image/jpeg": "[encoded data removed]",
            "text/plain": [
              "<IPython.core.display.Image object>"
            ]
          },
          "metadata": {
            "image/jpeg": {
              "width": 400
            }
          },
          "execution_count": 63
        }
      ]
    },
    {
      "cell_type": "markdown",
      "source": [
        "Tensors may have more axes; here is a tensor with three axes:\n",
        "\n"
      ],
      "metadata": {
        "id": "aDu8zadd7URo"
      }
    },
    {
      "cell_type": "code",
      "source": [
        "# There can be an arbitrary number of\n",
        "# axes (sometimes called \"dimensions\")\n",
        "rank_3_tensor = tf.constant([\n",
        "  [[0, 1, 2, 3, 4],\n",
        "   [5, 6, 7, 8, 9]],\n",
        "  [[10, 11, 12, 13, 14],\n",
        "   [15, 16, 17, 18, 19]],\n",
        "  [[20, 21, 22, 23, 24],\n",
        "   [25, 26, 27, 28, 29]],])\n",
        "\n",
        "print(rank_3_tensor)"
      ],
      "metadata": {
        "colab": {
          "base_uri": "https://localhost:8080/"
        },
        "id": "Ti49qzFi6Njo",
        "outputId": "e1ed5f68-7ff6-49ce-c8d1-64a6af9cfc4b"
      },
      "execution_count": 6,
      "outputs": [
        {
          "output_type": "stream",
          "name": "stdout",
          "text": [
            "tf.Tensor(\n",
            "[[[ 0  1  2  3  4]\n",
            "  [ 5  6  7  8  9]]\n",
            "\n",
            " [[10 11 12 13 14]\n",
            "  [15 16 17 18 19]]\n",
            "\n",
            " [[20 21 22 23 24]\n",
            "  [25 26 27 28 29]]], shape=(3, 2, 5), dtype=int32)\n"
          ]
        }
      ]
    },
    {
      "cell_type": "code",
      "source": [
        "Image(\"tf5.jpeg\", width = 400)"
      ],
      "metadata": {
        "id": "3h8AbVcGWq_4",
        "outputId": "e8ac9b67-9b23-49ac-ffa9-f8197e799d1b",
        "colab": {
          "base_uri": "https://localhost:8080/",
          "height": 163
        }
      },
      "execution_count": 65,
      "outputs": [
        {
          "output_type": "execute_result",
          "data": {
            "image/jpeg": "[encoded data removed]",
            "text/plain": [
              "<IPython.core.display.Image object>"
            ]
          },
          "metadata": {
            "image/jpeg": {
              "width": 400
            }
          },
          "execution_count": 65
        }
      ]
    },
    {
      "cell_type": "markdown",
      "source": [
        "You can convert tensor to a Numpy array either np.array or the tensor.numpy method:"
      ],
      "metadata": {
        "id": "nIR7q_Mb7uUf"
      }
    },
    {
      "cell_type": "code",
      "source": [
        "np.array(rank_2_tensor)"
      ],
      "metadata": {
        "colab": {
          "base_uri": "https://localhost:8080/"
        },
        "id": "gKDL4mV37X3j",
        "outputId": "c851e9bb-866a-4759-a4d8-0cd1b30b533b"
      },
      "execution_count": 7,
      "outputs": [
        {
          "output_type": "execute_result",
          "data": {
            "text/plain": [
              "array([[1., 2.],\n",
              "       [3., 4.],\n",
              "       [5., 6.]], dtype=float16)"
            ]
          },
          "metadata": {},
          "execution_count": 7
        }
      ]
    },
    {
      "cell_type": "code",
      "source": [
        "rank_2_tensor.numpy()"
      ],
      "metadata": {
        "colab": {
          "base_uri": "https://localhost:8080/"
        },
        "id": "q3eIVNQk8Rfz",
        "outputId": "bb7bd2a0-8bad-4c7b-c553-dd9bbec93e25"
      },
      "execution_count": 8,
      "outputs": [
        {
          "output_type": "execute_result",
          "data": {
            "text/plain": [
              "array([[1., 2.],\n",
              "       [3., 4.],\n",
              "       [5., 6.]], dtype=float16)"
            ]
          },
          "metadata": {},
          "execution_count": 8
        }
      ]
    },
    {
      "cell_type": "markdown",
      "source": [
        "Tensors often contain floats and ints, but have many other types, including:\n",
        "\n",
        "\n",
        "1.   complex numbers\n",
        "2.   strings\n",
        "\n",
        "\n",
        "The base tf.Tensor class requires tensors to be \"rectangular\"---that is, along each axis, every element is the same size. However, there are specialized types of tensors that can handle different shapes:\n",
        "\n",
        "1.   Ragged tensors (see RaggedTensor below)\n",
        "\n",
        "2. Sparse tensors (see SparseTensor below)\n",
        "\n",
        "\n",
        "\n",
        "You can do basic math on tensors, including addition, element-wise multiplication, and matrix multiplication."
      ],
      "metadata": {
        "id": "Q-Cys8fH89fk"
      }
    },
    {
      "cell_type": "code",
      "source": [
        "a = tf.constant([[1,2],\n",
        "                [3,4]])\n",
        "b = tf.constant([[1,1],\n",
        "                 [1,1]]) #Could have also said 'tf.ones([2,2])\n",
        "\n",
        "print(tf.add(a,b), \"\\n\")\n",
        "print(tf.multiply(a, b), \"\\n\")\n",
        "print(tf.matmul(a, b),  \"\\n\")"
      ],
      "metadata": {
        "colab": {
          "base_uri": "https://localhost:8080/"
        },
        "id": "hqww4ppC8mLT",
        "outputId": "cc169623-9659-4bb3-d4da-9910b1431d96"
      },
      "execution_count": 11,
      "outputs": [
        {
          "output_type": "stream",
          "name": "stdout",
          "text": [
            "tf.Tensor(\n",
            "[[2 3]\n",
            " [4 5]], shape=(2, 2), dtype=int32) \n",
            "\n",
            "tf.Tensor(\n",
            "[[1 2]\n",
            " [3 4]], shape=(2, 2), dtype=int32) \n",
            "\n",
            "tf.Tensor(\n",
            "[[3 3]\n",
            " [7 7]], shape=(2, 2), dtype=int32) \n",
            "\n"
          ]
        }
      ]
    },
    {
      "cell_type": "code",
      "source": [
        "a = tf.constant([[1,2],\n",
        "                [3,4]])\n",
        "b = tf.constant([[1,1],\n",
        "                 [1,1]]) #Could have also said 'tf.ones([2,2])\n",
        "\n",
        "print(tf.add(a,b))\n",
        "print(tf.multiply(a, b))\n",
        "print(tf.matmul(a, b))"
      ],
      "metadata": {
        "colab": {
          "base_uri": "https://localhost:8080/"
        },
        "id": "OlmJCDn6-0Q9",
        "outputId": "f050527e-5787-4289-8205-aaf3fd0209ea"
      },
      "execution_count": 12,
      "outputs": [
        {
          "output_type": "stream",
          "name": "stdout",
          "text": [
            "tf.Tensor(\n",
            "[[2 3]\n",
            " [4 5]], shape=(2, 2), dtype=int32)\n",
            "tf.Tensor(\n",
            "[[1 2]\n",
            " [3 4]], shape=(2, 2), dtype=int32)\n",
            "tf.Tensor(\n",
            "[[3 3]\n",
            " [7 7]], shape=(2, 2), dtype=int32)\n"
          ]
        }
      ]
    },
    {
      "cell_type": "code",
      "source": [
        "print(a+b, \"\\n\") #element wise addition\n",
        "print(a * b, \"\\n\") # lelement wise multiplication\n",
        "print(a @ b, \"\\n\") #matrix multiplication"
      ],
      "metadata": {
        "colab": {
          "base_uri": "https://localhost:8080/"
        },
        "id": "iGJkTXoC_TBA",
        "outputId": "00a40c89-7ae6-4cda-b299-e098ea2ffa94"
      },
      "execution_count": 13,
      "outputs": [
        {
          "output_type": "stream",
          "name": "stdout",
          "text": [
            "tf.Tensor(\n",
            "[[2 3]\n",
            " [4 5]], shape=(2, 2), dtype=int32) \n",
            "\n",
            "tf.Tensor(\n",
            "[[1 2]\n",
            " [3 4]], shape=(2, 2), dtype=int32) \n",
            "\n",
            "tf.Tensor(\n",
            "[[3 3]\n",
            " [7 7]], shape=(2, 2), dtype=int32) \n",
            "\n"
          ]
        }
      ]
    },
    {
      "cell_type": "markdown",
      "source": [
        "Tensors are used in all kinds of operations(or \"Ops\")"
      ],
      "metadata": {
        "id": "QS45bqvnBCJH"
      }
    },
    {
      "cell_type": "code",
      "source": [
        "c = tf.constant([[4.0, 5.0], [10.0, 1.0]])\n",
        "\n",
        "#Find the largest value\n",
        "print(tf.reduce_max(c))\n",
        "# Find the index of the largest value\n",
        "print(tf.math.argmax(c))\n",
        "#Compute the softmax\n",
        "print(tf.nn.softmax(c))\n"
      ],
      "metadata": {
        "colab": {
          "base_uri": "https://localhost:8080/"
        },
        "id": "nl0HMritAffA",
        "outputId": "2cd8ec04-a713-4075-9ff6-6f13da20464c"
      },
      "execution_count": 14,
      "outputs": [
        {
          "output_type": "stream",
          "name": "stdout",
          "text": [
            "tf.Tensor(10.0, shape=(), dtype=float32)\n",
            "tf.Tensor([1 0], shape=(2,), dtype=int64)\n",
            "tf.Tensor(\n",
            "[[2.6894143e-01 7.3105860e-01]\n",
            " [9.9987662e-01 1.2339458e-04]], shape=(2, 2), dtype=float32)\n"
          ]
        }
      ]
    },
    {
      "cell_type": "code",
      "source": [
        "tf.convert_to_tensor(1,2,3)"
      ],
      "metadata": {
        "colab": {
          "base_uri": "https://localhost:8080/"
        },
        "id": "65W6NBkqC8zI",
        "outputId": "17ce93f1-09bb-47f5-d347-c408018507b3"
      },
      "execution_count": 15,
      "outputs": [
        {
          "output_type": "execute_result",
          "data": {
            "text/plain": [
              "<tf.Tensor: shape=(), dtype=float64, numpy=1.0>"
            ]
          },
          "metadata": {},
          "execution_count": 15
        }
      ]
    },
    {
      "cell_type": "code",
      "source": [
        "tf.reduce_max([1,2,3])"
      ],
      "metadata": {
        "colab": {
          "base_uri": "https://localhost:8080/"
        },
        "id": "nsu-ROyIGag4",
        "outputId": "dbfae169-a97a-4b17-bc49-c760aacea590"
      },
      "execution_count": 17,
      "outputs": [
        {
          "output_type": "execute_result",
          "data": {
            "text/plain": [
              "<tf.Tensor: shape=(), dtype=int32, numpy=3>"
            ]
          },
          "metadata": {},
          "execution_count": 17
        }
      ]
    },
    {
      "cell_type": "code",
      "source": [
        "tf.reduce_min([1,2,3])"
      ],
      "metadata": {
        "colab": {
          "base_uri": "https://localhost:8080/"
        },
        "id": "UKvmHfbWGuGE",
        "outputId": "369acc31-4024-453f-94e6-b8615d169bd9"
      },
      "execution_count": 18,
      "outputs": [
        {
          "output_type": "execute_result",
          "data": {
            "text/plain": [
              "<tf.Tensor: shape=(), dtype=int32, numpy=1>"
            ]
          },
          "metadata": {},
          "execution_count": 18
        }
      ]
    },
    {
      "cell_type": "markdown",
      "source": [
        "## About shapes"
      ],
      "metadata": {
        "id": "mLsFhpciHGYf"
      }
    },
    {
      "cell_type": "markdown",
      "source": [
        "Tensor have shapes. Some vocabulary:\n",
        "\n",
        "\n",
        "*   Shape: The length(number of elements) of each of the axes of a tensor.\n",
        "*   Rank: Number of tensor axes.A scalar has rank 0, a vector has rank 1, a matrix is rank 2\n",
        "\n",
        "*  Axis or Dimension: A particular dimention of a tensor.\n",
        "\n",
        "*  Size: The total number of items in the tensor, the product of the shape vectors elements\n",
        "\n"
      ],
      "metadata": {
        "id": "55q9efPhHg2S"
      }
    },
    {
      "cell_type": "markdown",
      "source": [
        "Tensors and tf.TensorShape objects have convient properties for accessing these"
      ],
      "metadata": {
        "id": "q3qXdHdCKZnY"
      }
    },
    {
      "cell_type": "code",
      "source": [
        "rank_4_tensor = tf.zeros([3, 2, 4, 5]) #tf.zeros([3 metrics, 2rows, 4 columns, 5 values])"
      ],
      "metadata": {
        "id": "VvtkDDWoG6P5"
      },
      "execution_count": 23,
      "outputs": []
    },
    {
      "cell_type": "code",
      "source": [
        "Image(\"tf6.jpeg\", width = 400)"
      ],
      "metadata": {
        "id": "Wg0Uh-Z-XKch",
        "outputId": "68c76676-8dbb-4460-8c41-e787a1354e36",
        "colab": {
          "base_uri": "https://localhost:8080/",
          "height": 352
        }
      },
      "execution_count": 68,
      "outputs": [
        {
          "output_type": "execute_result",
          "data": {
            "image/jpeg": "[encoded data removed]",
            "text/plain": [
              "<IPython.core.display.Image object>"
            ]
          },
          "metadata": {
            "image/jpeg": {
              "width": 400
            }
          },
          "execution_count": 68
        }
      ]
    },
    {
      "cell_type": "markdown",
      "source": [
        "Therefore, the resulting tensor rank_4_tensor has the shape (3, 2, 4, 5), meaning it has 3 matrices, each with 2 rows and 4 columns, and each element of the matrix is a tensor with 5 values (i.e., the fourth dimension)."
      ],
      "metadata": {
        "id": "vPQqSjN4RExB"
      }
    },
    {
      "cell_type": "code",
      "source": [
        "print(\" Type of every element:\", rank_4_tensor.dtype)\n",
        "print(\"Number of axes:\", rank_4_tensor.ndim)\n",
        "print(\"Sahpe of tensor:\",rank_4_tensor.shape)\n",
        "print(\"Elements along axis 0 of tensor:\", rank_4_tensor.shape[0])\n",
        "print(\"Elements along he last axis of tensor:\", rank_4_tensor.shape[-1])\n",
        "print(\"Total number of elements (3*2*4*5): \", tf.size(rank_4_tensor).numpy())"
      ],
      "metadata": {
        "colab": {
          "base_uri": "https://localhost:8080/"
        },
        "id": "QC8iKyuCK-rx",
        "outputId": "20994e9a-4075-432e-bd71-96cfde608a67"
      },
      "execution_count": 20,
      "outputs": [
        {
          "output_type": "stream",
          "name": "stdout",
          "text": [
            " Type of every element: <dtype: 'float32'>\n",
            "Number of axes: 4\n",
            "Sahpe of tensor: (3, 2, 4, 5)\n",
            "Elements along axis 0 of tensor: 3\n",
            "Elements along he last axis of tensor: 5\n",
            "Total number of elements (3*2*4*5):  120\n"
          ]
        }
      ]
    },
    {
      "cell_type": "markdown",
      "source": [
        "But note that the Tensor.ndim and Tensor.shape attributes don't return Tensor objects. If you need a Tensor use the tf.rank or tf.shape function. This difference is subtle, but it can be important when building graphs (later)."
      ],
      "metadata": {
        "id": "CwRLK2KBPZf9"
      }
    },
    {
      "cell_type": "code",
      "source": [
        "tf.rank(rank_4_tensor) "
      ],
      "metadata": {
        "colab": {
          "base_uri": "https://localhost:8080/"
        },
        "id": "44xz7wu4OjKC",
        "outputId": "bd69dcb5-bd19-460a-a5d4-6869a4fd8a0d"
      },
      "execution_count": 21,
      "outputs": [
        {
          "output_type": "execute_result",
          "data": {
            "text/plain": [
              "<tf.Tensor: shape=(), dtype=int32, numpy=4>"
            ]
          },
          "metadata": {},
          "execution_count": 21
        }
      ]
    },
    {
      "cell_type": "code",
      "source": [
        "tf.shape(rank_4_tensor)"
      ],
      "metadata": {
        "colab": {
          "base_uri": "https://localhost:8080/"
        },
        "id": "xMbxbksMPi53",
        "outputId": "a1beb6d4-c69c-48b2-b42e-87e3e54d8873"
      },
      "execution_count": 22,
      "outputs": [
        {
          "output_type": "execute_result",
          "data": {
            "text/plain": [
              "<tf.Tensor: shape=(4,), dtype=int32, numpy=array([3, 2, 4, 5], dtype=int32)>"
            ]
          },
          "metadata": {},
          "execution_count": 22
        }
      ]
    },
    {
      "cell_type": "markdown",
      "source": [
        "While axes are often referred to by their indices, you should always keep track of the meaning of each. Often axes are ordered from global to local: The batch axis first, followed by spatial dimensions, and features for each location last. This way feature vectors are contiguous regions of memory."
      ],
      "metadata": {
        "id": "TPxJ30OATLgq"
      }
    },
    {
      "cell_type": "code",
      "source": [
        "Image(\"tf7.jpeg\", width = 400)"
      ],
      "metadata": {
        "id": "-ii73faxXf8q",
        "outputId": "06b138be-7042-43ae-943b-f79195aa3422",
        "colab": {
          "base_uri": "https://localhost:8080/",
          "height": 220
        }
      },
      "execution_count": 69,
      "outputs": [
        {
          "output_type": "execute_result",
          "data": {
            "image/jpeg": "[encoded data removed]",
            "text/plain": [
              "<IPython.core.display.Image object>"
            ]
          },
          "metadata": {
            "image/jpeg": {
              "width": 400
            }
          },
          "execution_count": 69
        }
      ]
    },
    {
      "cell_type": "markdown",
      "source": [
        "## Indexing:"
      ],
      "metadata": {
        "id": "JGaayzxPegvK"
      }
    },
    {
      "cell_type": "markdown",
      "source": [
        "## Single-axis indexing:"
      ],
      "metadata": {
        "id": "7eWfx3RpesWX"
      }
    },
    {
      "cell_type": "markdown",
      "source": [
        "TensorFlow follows standard Python indexing rules, similar to indexing a list or a string in Python, and the basic rules for NumPy indexing.\n",
        "\n",
        "* indexes start at 0\n",
        "* negative indices count backwards from the end\n",
        "* colons, :, are used for slices: start:stop:step\n",
        "\n"
      ],
      "metadata": {
        "id": "6RF5TGjcfIV1"
      }
    },
    {
      "cell_type": "code",
      "source": [
        "rank_1_tensor = tf.constant([0,1,1,2,3,5,8,13,21,34])\n",
        "print(rank_1_tensor.numpy())"
      ],
      "metadata": {
        "colab": {
          "base_uri": "https://localhost:8080/"
        },
        "id": "sdHuv-79Rk8r",
        "outputId": "7a386346-472c-451d-f2d2-a801f3fb0395"
      },
      "execution_count": 25,
      "outputs": [
        {
          "output_type": "stream",
          "name": "stdout",
          "text": [
            "[ 0  1  1  2  3  5  8 13 21 34]\n"
          ]
        }
      ]
    },
    {
      "cell_type": "markdown",
      "source": [
        "Indexing with a scaler removes the axis:"
      ],
      "metadata": {
        "id": "-e26eNHsguJm"
      }
    },
    {
      "cell_type": "code",
      "source": [
        "print(\"First:\", rank_1_tensor[0].numpy())\n",
        "print(\"First:\", rank_1_tensor[1].numpy())\n",
        "print(\"First:\", rank_1_tensor[-1].numpy())\n"
      ],
      "metadata": {
        "id": "qgI3hLPcgLh5",
        "outputId": "3b8329be-cf1c-4be0-d935-70305b5fa983",
        "colab": {
          "base_uri": "https://localhost:8080/"
        }
      },
      "execution_count": 27,
      "outputs": [
        {
          "output_type": "stream",
          "name": "stdout",
          "text": [
            "First: 0\n",
            "First: 1\n",
            "First: 34\n"
          ]
        }
      ]
    },
    {
      "cell_type": "markdown",
      "source": [
        "Indexing with a : slice keeps the axis:"
      ],
      "metadata": {
        "id": "7e81IXqZhX9-"
      }
    },
    {
      "cell_type": "code",
      "source": [
        "print(\"Everything:\",rank_1_tensor[:].numpy())\n",
        "print(\"Before 4:\",rank_1_tensor[:4].numpy())\n",
        "print(\"From 4 to  the end :\",rank_1_tensor[4:].numpy())\n",
        "print(\"Before 4:\",rank_1_tensor[:4].numpy())\n",
        "print(\"From2, before 7:\",rank_1_tensor[2:7].numpy())\n",
        "print(\"Every other item:\",rank_1_tensor[::2].numpy())\n",
        "print(\"Reversed:\",rank_1_tensor[::-1].numpy())"
      ],
      "metadata": {
        "id": "PCJCU5c3hQC0",
        "outputId": "ecad58de-69a2-42fe-dca6-aec4e523adbf",
        "colab": {
          "base_uri": "https://localhost:8080/"
        }
      },
      "execution_count": 28,
      "outputs": [
        {
          "output_type": "stream",
          "name": "stdout",
          "text": [
            "Everything: [ 0  1  1  2  3  5  8 13 21 34]\n",
            "Before 4: [0 1 1 2]\n",
            "From 4 to  the end : [ 3  5  8 13 21 34]\n",
            "Before 4: [0 1 1 2]\n",
            "From2, before 7: [1 2 3 5 8]\n",
            "Every other item: [ 0  1  3  8 21]\n",
            "Reversed: [34 21 13  8  5  3  2  1  1  0]\n"
          ]
        }
      ]
    },
    {
      "cell_type": "markdown",
      "source": [
        "## Multi-axis indexing"
      ],
      "metadata": {
        "id": "B5aMgx7WjtYQ"
      }
    },
    {
      "cell_type": "markdown",
      "source": [
        "Higher rank tensors are indexed by passing multiple indices.\n",
        "\n",
        "The exact same rules as in the single-axis case apply to each axis independently."
      ],
      "metadata": {
        "id": "iKJ_dHUZjybn"
      }
    },
    {
      "cell_type": "markdown",
      "source": [
        "rank_2_tensor[start_row : stop_row,    start_column : stop_column]"
      ],
      "metadata": {
        "id": "KVW98dao8W_c"
      }
    },
    {
      "cell_type": "code",
      "source": [
        "print(rank_2_tensor.numpy())"
      ],
      "metadata": {
        "id": "Jekur3rUjh0W",
        "outputId": "d43efaa4-3e09-4d44-dafe-4fe455747690",
        "colab": {
          "base_uri": "https://localhost:8080/"
        }
      },
      "execution_count": 29,
      "outputs": [
        {
          "output_type": "stream",
          "name": "stdout",
          "text": [
            "[[1. 2.]\n",
            " [3. 4.]\n",
            " [5. 6.]]\n"
          ]
        }
      ]
    },
    {
      "cell_type": "markdown",
      "source": [
        "Passing an integer for each, the result is a scalar"
      ],
      "metadata": {
        "id": "8-ajRGDJkJu9"
      }
    },
    {
      "cell_type": "code",
      "source": [
        "#Pull out a single value from a 2-rank tensor\n",
        "print(rank_2_tensor[1,1].numpy())"
      ],
      "metadata": {
        "id": "n6YOwDs3kDtD",
        "outputId": "c8a737b7-61e1-4eeb-cbae-4b91bb022125",
        "colab": {
          "base_uri": "https://localhost:8080/"
        }
      },
      "execution_count": 30,
      "outputs": [
        {
          "output_type": "stream",
          "name": "stdout",
          "text": [
            "4.0\n"
          ]
        }
      ]
    },
    {
      "cell_type": "markdown",
      "source": [
        "You can index using any combiantion of integers and slices:"
      ],
      "metadata": {
        "id": "AiSPSwnmneZp"
      }
    },
    {
      "cell_type": "code",
      "source": [
        "#Get row and column tensors\n",
        "print(\"Second row:\", rank_2_tensor[1, :].numpy())\n",
        "print(\"Second column:\", rank_2_tensor[:, 1].numpy())\n",
        "print(\"Last row:\", rank_2_tensor[-1, :].numpy())\n",
        "print(\"First item in last column:\", rank_2_tensor[0, -1].numpy())\n",
        "print(\"Last row:\", rank_2_tensor[-1, :].numpy())\n",
        "print(rank_2_tensor[1:, :].numpy(), \"\\n\")\n",
        "print(rank_2_tensor[:2, :2].numpy())\n",
        "print(rank_2_tensor[:, :1].numpy())"
      ],
      "metadata": {
        "id": "Unk5Yy0lnDmI",
        "outputId": "0e961f82-f052-46f5-9e3d-a47fb1e85d32",
        "colab": {
          "base_uri": "https://localhost:8080/"
        }
      },
      "execution_count": 44,
      "outputs": [
        {
          "output_type": "stream",
          "name": "stdout",
          "text": [
            "Second row: [3. 4.]\n",
            "Second column: [2. 4. 6.]\n",
            "Last row: [5. 6.]\n",
            "First item in last column: 2.0\n",
            "Last row: [5. 6.]\n",
            "[[3. 4.]\n",
            " [5. 6.]] \n",
            "\n",
            "[[1. 2.]\n",
            " [3. 4.]]\n",
            "[[1.]\n",
            " [3.]\n",
            " [5.]]\n"
          ]
        }
      ]
    },
    {
      "cell_type": "markdown",
      "source": [
        "Here is an example with a 3-axis tensor:"
      ],
      "metadata": {
        "id": "d0y0vAVl9oEQ"
      }
    },
    {
      "cell_type": "markdown",
      "source": [
        "rank_3_tensor[start_row : stop_row,  start_column : stop_column,  start_depth : stop_depth]\n"
      ],
      "metadata": {
        "id": "TQ-Kt5HmIYqY"
      }
    },
    {
      "cell_type": "code",
      "source": [
        "# There can be an arbitrary number of\n",
        "# axes (sometimes called \"dimensions\")\n",
        "rank_3_tensor = tf.constant([\n",
        "  [[0, 1, 2, 3, 4],\n",
        "   [5, 6, 7, 8, 9]],\n",
        "  [[10, 11, 12, 13, 14],\n",
        "   [15, 16, 17, 18, 19]],\n",
        "  [[20, 21, 22, 23, 24],\n",
        "   [25, 26, 27, 28, 29]],])\n",
        "\n",
        "print(rank_3_tensor)"
      ],
      "metadata": {
        "id": "IWGGwIdTDwNU",
        "outputId": "0b3a6952-e7aa-4a9d-8259-d25058ed77d7",
        "colab": {
          "base_uri": "https://localhost:8080/"
        }
      },
      "execution_count": 46,
      "outputs": [
        {
          "output_type": "stream",
          "name": "stdout",
          "text": [
            "tf.Tensor(\n",
            "[[[ 0  1  2  3  4]\n",
            "  [ 5  6  7  8  9]]\n",
            "\n",
            " [[10 11 12 13 14]\n",
            "  [15 16 17 18 19]]\n",
            "\n",
            " [[20 21 22 23 24]\n",
            "  [25 26 27 28 29]]], shape=(3, 2, 5), dtype=int32)\n"
          ]
        }
      ]
    },
    {
      "cell_type": "code",
      "source": [
        "print(rank_3_tensor[:, :, 4])"
      ],
      "metadata": {
        "id": "rpxpLsHxqP_P",
        "outputId": "5cc55f2f-2bc5-4a93-c680-296a2848e763",
        "colab": {
          "base_uri": "https://localhost:8080/"
        }
      },
      "execution_count": 45,
      "outputs": [
        {
          "output_type": "stream",
          "name": "stdout",
          "text": [
            "tf.Tensor(\n",
            "[[ 4  9]\n",
            " [14 19]\n",
            " [24 29]], shape=(3, 2), dtype=int32)\n"
          ]
        }
      ]
    },
    {
      "cell_type": "code",
      "source": [
        "Image(\"tf8.jpeg\", width = 400)"
      ],
      "metadata": {
        "id": "sYoEod00XtQO",
        "outputId": "9764743f-a512-4bf4-ed79-f97a75ffe99c",
        "colab": {
          "base_uri": "https://localhost:8080/",
          "height": 190
        }
      },
      "execution_count": 71,
      "outputs": [
        {
          "output_type": "execute_result",
          "data": {
            "image/jpeg": "[encoded data removed]",
            "text/plain": [
              "<IPython.core.display.Image object>"
            ]
          },
          "metadata": {
            "image/jpeg": {
              "width": 400
            }
          },
          "execution_count": 71
        }
      ]
    },
    {
      "cell_type": "code",
      "source": [
        "print(rank_3_tensor[:, :, 2:4])"
      ],
      "metadata": {
        "id": "rIUjju5K91M3",
        "outputId": "e4c05bf7-3b40-41c7-b8ea-1b3babddf74a",
        "colab": {
          "base_uri": "https://localhost:8080/"
        }
      },
      "execution_count": 47,
      "outputs": [
        {
          "output_type": "stream",
          "name": "stdout",
          "text": [
            "tf.Tensor(\n",
            "[[[ 2  3]\n",
            "  [ 7  8]]\n",
            "\n",
            " [[12 13]\n",
            "  [17 18]]\n",
            "\n",
            " [[22 23]\n",
            "  [27 28]]], shape=(3, 2, 2), dtype=int32)\n"
          ]
        }
      ]
    },
    {
      "cell_type": "code",
      "source": [],
      "metadata": {
        "id": "TT-8zAeuEHcf"
      },
      "execution_count": null,
      "outputs": []
    },
    {
      "cell_type": "code",
      "source": [],
      "metadata": {
        "id": "Dw-pHjjUX-hE"
      },
      "execution_count": null,
      "outputs": []
    },
    {
      "cell_type": "code",
      "source": [],
      "metadata": {
        "id": "5695An28X-ko"
      },
      "execution_count": null,
      "outputs": []
    },
    {
      "cell_type": "markdown",
      "source": [
        "## Manipulating Shapes:"
      ],
      "metadata": {
        "id": "hsKWRcH2X_O1"
      }
    },
    {
      "cell_type": "markdown",
      "source": [
        "Reshaping a tensor is of great utility."
      ],
      "metadata": {
        "id": "Y55QVnoTYME3"
      }
    },
    {
      "cell_type": "code",
      "source": [],
      "metadata": {
        "id": "KA7FSXydYIyH"
      },
      "execution_count": null,
      "outputs": []
    }
  ]
}